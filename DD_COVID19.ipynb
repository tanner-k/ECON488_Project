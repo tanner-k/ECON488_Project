{
  "nbformat": 4,
  "nbformat_minor": 0,
  "metadata": {
    "colab": {
      "name": "DD_COVID19.ipynb",
      "provenance": [],
      "collapsed_sections": [],
      "authorship_tag": "ABX9TyNLIabnXrsS6Ugi3J3xVDy+",
      "include_colab_link": true
    },
    "kernelspec": {
      "name": "python3",
      "display_name": "Python 3"
    }
  },
  "cells": [
    {
      "cell_type": "markdown",
      "metadata": {
        "id": "view-in-github",
        "colab_type": "text"
      },
      "source": [
        "<a href=\"https://colab.research.google.com/github/tanner-k/ECON488_Project/blob/main/DD_COVID19.ipynb\" target=\"_parent\"><img src=\"https://colab.research.google.com/assets/colab-badge.svg\" alt=\"Open In Colab\"/></a>"
      ]
    },
    {
      "cell_type": "code",
      "metadata": {
        "id": "T3L3WON-jRN6",
        "colab": {
          "base_uri": "https://localhost:8080/"
        },
        "outputId": "8e423b7d-f7b8-47ae-8f15-87dde8d0f8e6"
      },
      "source": [
        "# Import the libraries needed to do the analysis for the project.\n",
        "import pandas as pd\n",
        "import numpy as np\n",
        "\n",
        "# Import linearmodels library to do the two-way fixed effects regression.\n",
        "while True:\n",
        "  try:\n",
        "    from linearmodels import PanelOLS\n",
        "    break\n",
        "  except ModuleNotFoundError:\n",
        "    !pip install linearmodels"
      ],
      "execution_count": 1,
      "outputs": [
        {
          "output_type": "stream",
          "text": [
            "/usr/local/lib/python3.6/dist-packages/statsmodels/tools/_testing.py:19: FutureWarning: pandas.util.testing is deprecated. Use the functions in the public API at pandas.testing instead.\n",
            "  import pandas.util.testing as tm\n"
          ],
          "name": "stderr"
        }
      ]
    },
    {
      "cell_type": "markdown",
      "metadata": {
        "id": "li74qDWmN_eS"
      },
      "source": [
        "# Prepare the Data\n",
        "The next several cells of code prepare the data for our Differences in Differences analysis. The data starts as a running total of COVID-19 cases and deaths. This data is also set up as state by day data, whereas we need it the data to be set up in state by week data. "
      ]
    },
    {
      "cell_type": "code",
      "metadata": {
        "id": "_YlBllcBrF9K"
      },
      "source": [
        "# Read in the data for the project.\n",
        "data = pd.read_csv('https://raw.githubusercontent.com/nytimes/covid-19-data/master/us-states.csv')"
      ],
      "execution_count": 2,
      "outputs": []
    },
    {
      "cell_type": "code",
      "metadata": {
        "id": "bZ4hPF5ntjYx"
      },
      "source": [
        "# Create a variable for the list of states we want to include in our analysis. \n",
        "included_states = ['Washington', 'Illinois', 'California', 'Arizona', 'Massachusetts',\n",
        "       'Wisconsin', 'Texas', 'Nebraska', 'Utah', 'Oregon', 'Florida',\n",
        "       'New York', 'Rhode Island', 'Georgia', 'New Hampshire',\n",
        "       'North Carolina', 'New Jersey', 'Colorado', 'Maryland', 'Nevada',\n",
        "       'Tennessee', 'Indiana', 'Kentucky', 'Minnesota',\n",
        "       'Oklahoma', 'Pennsylvania', 'South Carolina',\n",
        "       'District of Columbia', 'Kansas', 'Missouri', 'Vermont',\n",
        "       'Virginia', 'Connecticut', 'Iowa', 'Louisiana', 'Ohio', 'Michigan',\n",
        "       'South Dakota', 'Arkansas', 'Delaware', 'Mississippi',\n",
        "       'New Mexico', 'North Dakota', 'Wyoming', 'Maine',\n",
        "       'Alabama', 'Idaho', 'Montana', 'West Virginia']"
      ],
      "execution_count": 3,
      "outputs": []
    },
    {
      "cell_type": "code",
      "metadata": {
        "id": "wC4OBu4AqOcH"
      },
      "source": [
        "# Keep only the states we want to include in our analysis.\n",
        "data = data.loc[data.state.isin(included_states)]\n",
        "\n",
        "# Organize the data by state and by date.\n",
        "data = data.sort_values(by=['state', 'date'],ascending=[True, True])"
      ],
      "execution_count": 4,
      "outputs": []
    },
    {
      "cell_type": "code",
      "metadata": {
        "id": "yfhEv5ttrrau"
      },
      "source": [
        "# Create daily counts of cases and deaths.\n",
        "data['daily_cases'] = data.groupby(by='state')['cases'].diff().fillna(0)\n",
        "data['daily_deaths'] = data.groupby(by='state')['deaths'].diff().fillna(0)\n",
        "\n",
        "# Eliminate negative values from transitioning from state to state.\n",
        "data[data['daily_cases'] < 0] = 0\n",
        "data[data['daily_deaths'] < 0] = 0"
      ],
      "execution_count": 5,
      "outputs": []
    },
    {
      "cell_type": "code",
      "metadata": {
        "id": "uLYbkHFCL7d2"
      },
      "source": [
        "# Create a week variable.\n",
        "data['date'] = pd.to_datetime(data['date'])\n",
        "data['week_of_year'] = data.date.dt.strftime('%U').astype('int32')"
      ],
      "execution_count": 6,
      "outputs": []
    },
    {
      "cell_type": "code",
      "metadata": {
        "id": "JQl3tGpBdAXU",
        "colab": {
          "base_uri": "https://localhost:8080/"
        },
        "outputId": "8fd96488-8790-4635-adaf-40e9a4770d0a"
      },
      "source": [
        "# Collapse the data into counts per week.\n",
        "cases = data.groupby(['state', 'week_of_year'])['daily_cases','daily_deaths'].sum()\n",
        "cases = pd.DataFrame(data=cases)\n",
        "cases = cases.rename(columns={'daily_cases': 'weekly_cases', 'daily_deaths': 'weekly_deaths'})\n",
        "cases = cases.reset_index(level=['state', 'week_of_year'])\n",
        "cases = cases.drop(axis=0, index=0)"
      ],
      "execution_count": 7,
      "outputs": [
        {
          "output_type": "stream",
          "text": [
            "/usr/local/lib/python3.6/dist-packages/ipykernel_launcher.py:2: FutureWarning: Indexing with multiple keys (implicitly converted to a tuple of keys) will be deprecated, use a list instead.\n",
            "  \n"
          ],
          "name": "stderr"
        }
      ]
    },
    {
      "cell_type": "markdown",
      "metadata": {
        "id": "Q3peEkAtPp75"
      },
      "source": [
        "This is still part of the data preparation process, but we created a csv file of the week that the mask mandate went into effect for each state. This is a dummy variable that we have to put into the same Pandas DataFrame for our regression. "
      ]
    },
    {
      "cell_type": "code",
      "metadata": {
        "id": "ebS2dYrD6VpC"
      },
      "source": [
        "# Import mask mandate data.\n",
        "mask = pd.read_csv('https://raw.githubusercontent.com/tanner-k/DD-COVID19/master/Mask_Mandate_Data.csv')"
      ],
      "execution_count": 8,
      "outputs": []
    },
    {
      "cell_type": "code",
      "metadata": {
        "id": "4lpBH-koSPFF"
      },
      "source": [
        "# Make the mask data have the same columns as the case data.\n",
        "mask = mask.rename(columns={'State': 'state', 'Week Number': 'week_of_year', 'Mask Mandate': 'mask_mandate'})\n",
        "mask['weeks'] = mask.week_of_year\n",
        "mask['State'] = mask.state"
      ],
      "execution_count": 9,
      "outputs": []
    },
    {
      "cell_type": "code",
      "metadata": {
        "id": "ggQBvBYfu7wy"
      },
      "source": [
        "# Set the index for the mask and cases dataframes and then combine them.\n",
        "mask = mask.set_index(['state', 'week_of_year'])\n",
        "cases = cases.set_index(['state', 'week_of_year'])\n",
        "cases = cases.combine_first(mask)"
      ],
      "execution_count": 10,
      "outputs": []
    },
    {
      "cell_type": "markdown",
      "metadata": {
        "id": "i4IFg5AvQKDa"
      },
      "source": [
        "We need to make a variable for weeks where the mask mandate is in effect. This is the independent variable that will be used for the first regression. \n",
        "\n",
        "We also need to create a variable for the weeks before and after the mandate for our second regression. This variable will be used to create dummy variables that will be used in the regression. \n"
      ]
    },
    {
      "cell_type": "code",
      "metadata": {
        "id": "rkAc_yY71HH-"
      },
      "source": [
        "# Here we create a mandate week variable that will be used to help create both a variable for the weeks where the mandate \n",
        "# is in effect and a variable for the weeks before and after the mandate variable. \n",
        "cases['mandate_week'] = 0\n",
        "cases.loc[cases.mask_mandate==1, 'mandate_week'] = cases.loc[cases.mask_mandate==1, 'weeks']\n",
        "\n",
        "for states, week in cases.groupby(level=0):\n",
        "  cases.loc[cases.State==states, 'mandate_week'] = week.mandate_week.max()\n",
        "cases = cases.dropna()"
      ],
      "execution_count": 11,
      "outputs": []
    },
    {
      "cell_type": "code",
      "metadata": {
        "id": "JBDv_Xvm0DLE"
      },
      "source": [
        "# The mandate variable is for weeks where the mask mandate is in effect.\n",
        "cases['mandate'] = 0\n",
        "cases.loc[cases.weeks>=cases.mandate_week, 'mandate'] = 1\n",
        "cases.loc[cases.mandate_week==0, 'mandate'] = 0"
      ],
      "execution_count": 12,
      "outputs": []
    },
    {
      "cell_type": "code",
      "metadata": {
        "id": "Cz5ED3srxHgw"
      },
      "source": [
        "# The week_diff variable is the variable for the weeks before and after the mask mandate.\n",
        "cases['week_diff'] = cases.loc[cases.mandate_week!=0, 'weeks'].subtract(cases.mandate_week)"
      ],
      "execution_count": 13,
      "outputs": []
    },
    {
      "cell_type": "markdown",
      "metadata": {
        "id": "NQWH5DhlTjIK"
      },
      "source": [
        "We then use the week_diff variable to create a dummy variable for each week before and after the mask mandate has been in effect. "
      ]
    },
    {
      "cell_type": "code",
      "metadata": {
        "id": "Q7spxrCs23uU"
      },
      "source": [
        "# Make a dummy variable for each week before the mandate and after the mandate from the week_diff variable.\n",
        "dummy = pd.get_dummies(cases.week_diff.astype(str))\n",
        "dummy = dummy.drop(columns=['-1.0','nan'])"
      ],
      "execution_count": 14,
      "outputs": []
    },
    {
      "cell_type": "markdown",
      "metadata": {
        "id": "RKnvYvHuL1Et"
      },
      "source": [
        "# First Regression\n",
        "This regression is set up where the independent variable is for weeks where the mask mandate is in effect and the dependent variable is the sum of cases per week. \n"
      ]
    },
    {
      "cell_type": "code",
      "metadata": {
        "id": "eJfnFOTQHE1D"
      },
      "source": [
        "# Choose the dependent variable(y) and the independent variable(x) for the model.\n",
        "y = cases.weekly_cases\n",
        "x = cases['mandate']\n",
        "x = pd.DataFrame(x)"
      ],
      "execution_count": 15,
      "outputs": []
    },
    {
      "cell_type": "code",
      "metadata": {
        "id": "nEKVggS4HMel",
        "colab": {
          "base_uri": "https://localhost:8080/"
        },
        "outputId": "f3178e3c-cc97-4ebf-e075-d8dee2870d06"
      },
      "source": [
        "# Create the model and fit the data to it.\n",
        "\n",
        "# Inclued state and time fixed effects to control for variation. Entity effects are the state fixed effects. \n",
        "mod = PanelOLS(y, x, entity_effects=True, time_effects=True, drop_absorbed=False) \n",
        "\n",
        "# Cluster the standard errors so that the standard errors will be more accurate. \n",
        "res = mod.fit(cov_type='clustered', cluster_entity=True)\n",
        "print(res)"
      ],
      "execution_count": 16,
      "outputs": [
        {
          "output_type": "stream",
          "text": [
            "/usr/local/lib/python3.6/dist-packages/linearmodels/panel/data.py:98: FutureWarning: is_categorical is deprecated and will be removed in a future version.  Use is_categorical_dtype instead\n",
            "  if is_categorical(s):\n"
          ],
          "name": "stderr"
        },
        {
          "output_type": "stream",
          "text": [
            "                          PanelOLS Estimation Summary                           \n",
            "================================================================================\n",
            "Dep. Variable:           weekly_cases   R-squared:                        0.0059\n",
            "Estimator:                   PanelOLS   R-squared (Between):              0.1179\n",
            "No. Observations:                2030   R-squared (Within):               0.0508\n",
            "Date:                Wed, Dec 09 2020   R-squared (Overall):              0.0837\n",
            "Time:                        05:10:53   Log-likelihood                -2.108e+04\n",
            "Cov. Estimator:             Clustered                                           \n",
            "                                        F-statistic:                      11.496\n",
            "Entities:                          49   P-value                           0.0007\n",
            "Avg Obs:                       41.429   Distribution:                  F(1,1934)\n",
            "Min Obs:                       39.000                                           \n",
            "Max Obs:                       47.000   F-statistic (robust):             1.2974\n",
            "                                        P-value                           0.2548\n",
            "Time periods:                      49   Distribution:                  F(1,1934)\n",
            "Avg Obs:                       41.429                                           \n",
            "Min Obs:                       0.0000                                           \n",
            "Max Obs:                       49.000                                           \n",
            "                                                                                \n",
            "                             Parameter Estimates                              \n",
            "==============================================================================\n",
            "            Parameter  Std. Err.     T-stat    P-value    Lower CI    Upper CI\n",
            "------------------------------------------------------------------------------\n",
            "mandate        2217.3     1946.6     1.1390     0.2548     -1600.4      6035.0\n",
            "==============================================================================\n",
            "\n",
            "F-test for Poolability: 27.651\n",
            "P-value: 0.0000\n",
            "Distribution: F(94,1934)\n",
            "\n",
            "Included effects: Entity, Time\n"
          ],
          "name": "stdout"
        }
      ]
    },
    {
      "cell_type": "markdown",
      "metadata": {
        "id": "6nQlWpJzUUaz"
      },
      "source": [
        "# Second Regression\n",
        "This regression is set up to have the cases be the dependent variable and the dummy variables for weeks before and after to be be the independent variables. "
      ]
    },
    {
      "cell_type": "code",
      "metadata": {
        "id": "Ie0kTgS5Hik3"
      },
      "source": [
        "#Choose the dependent variable(y) and the independent variables(x) for the model\n",
        "y = cases.weekly_cases\n",
        "x = dummy\n",
        "x = pd.DataFrame(x)"
      ],
      "execution_count": 17,
      "outputs": []
    },
    {
      "cell_type": "code",
      "metadata": {
        "colab": {
          "base_uri": "https://localhost:8080/"
        },
        "id": "hrk0V01KH3Op",
        "outputId": "3093e9ff-4fe1-43c2-be97-a09d9bf01686"
      },
      "source": [
        "#Create the model and fit the data to it\n",
        "\n",
        "# Inclued state and time fixed effects to control for variation. Entity effects are the state fixed effects. \n",
        "mod = PanelOLS(y, x, entity_effects=True, time_effects=True, drop_absorbed=False)  \n",
        "\n",
        "# Cluster the standard errors so that the standard errors will be more accurate. \n",
        "res = mod.fit(cov_type='clustered', cluster_entity=True)\n",
        "print(res)"
      ],
      "execution_count": 18,
      "outputs": [
        {
          "output_type": "stream",
          "text": [
            "/usr/local/lib/python3.6/dist-packages/linearmodels/panel/data.py:98: FutureWarning: is_categorical is deprecated and will be removed in a future version.  Use is_categorical_dtype instead\n",
            "  if is_categorical(s):\n"
          ],
          "name": "stderr"
        },
        {
          "output_type": "stream",
          "text": [
            "                          PanelOLS Estimation Summary                           \n",
            "================================================================================\n",
            "Dep. Variable:           weekly_cases   R-squared:                        0.0290\n",
            "Estimator:                   PanelOLS   R-squared (Between):             -0.2186\n",
            "No. Observations:                2030   R-squared (Within):               0.0623\n",
            "Date:                Wed, Dec 09 2020   R-squared (Overall):             -0.0759\n",
            "Time:                        05:10:54   Log-likelihood                -2.106e+04\n",
            "Cov. Estimator:             Clustered                                           \n",
            "                                        F-statistic:                      0.7833\n",
            "Entities:                          49   P-value                           0.9069\n",
            "Avg Obs:                       41.429   Distribution:                 F(71,1864)\n",
            "Min Obs:                       39.000                                           \n",
            "Max Obs:                       47.000   F-statistic (robust):         -1.155e+13\n",
            "                                        P-value                           1.0000\n",
            "Time periods:                      49   Distribution:                 F(71,1864)\n",
            "Avg Obs:                       41.429                                           \n",
            "Min Obs:                       0.0000                                           \n",
            "Max Obs:                       49.000                                           \n",
            "                                                                                \n",
            "                             Parameter Estimates                              \n",
            "==============================================================================\n",
            "            Parameter  Std. Err.     T-stat    P-value    Lower CI    Upper CI\n",
            "------------------------------------------------------------------------------\n",
            "-10.0         -3449.3     2549.8    -1.3527     0.1763     -8450.1      1551.6\n",
            "-11.0         -3948.4     2720.3    -1.4515     0.1468     -9283.6      1386.7\n",
            "-12.0         -3988.1     2931.1    -1.3606     0.1738     -9736.6      1760.4\n",
            "-13.0         -4295.2     3102.6    -1.3844     0.1664  -1.038e+04      1789.8\n",
            "-14.0         -4738.0     3327.7    -1.4238     0.1547  -1.126e+04      1788.5\n",
            "-15.0         -4704.1     3359.5    -1.4002     0.1616  -1.129e+04      1884.8\n",
            "-16.0         -5715.5     3380.0    -1.6910     0.0910  -1.234e+04      913.41\n",
            "-17.0         -5246.9     3230.4    -1.6242     0.1045  -1.158e+04      1088.7\n",
            "-18.0         -4948.8     3243.9    -1.5255     0.1273  -1.131e+04      1413.4\n",
            "-19.0         -3743.5     3185.9    -1.1750     0.2401     -9991.9      2504.9\n",
            "-2.0          -438.42     425.65    -1.0300     0.3031     -1273.2      396.39\n",
            "-20.0         -5396.6     3592.2    -1.5023     0.1332  -1.244e+04      1648.6\n",
            "-21.0         -5401.6     3997.1    -1.3514     0.1767  -1.324e+04      2437.7\n",
            "-22.0         -3329.9     3519.5    -0.9461     0.3442  -1.023e+04      3572.7\n",
            "-23.0          198.54     4377.6     0.0454     0.9638     -8386.9      8784.0\n",
            "-24.0         -2241.9     3222.4    -0.6957     0.4867     -8561.7      4077.9\n",
            "-25.0         -2119.7     3473.1    -0.6103     0.5417     -8931.3      4691.9\n",
            "-26.0         -3149.0     3420.1    -0.9207     0.3573     -9856.5      3558.5\n",
            "-27.0         -3010.8     3272.8    -0.9199     0.3577     -9429.5      3407.9\n",
            "-28.0         -2972.1     3378.4    -0.8797     0.3791     -9597.9      3653.7\n",
            "-29.0         -5337.3     3457.4    -1.5437     0.1228  -1.212e+04      1443.5\n",
            "-3.0          -856.96     794.32    -1.0789     0.2808     -2414.8      700.89\n",
            "-30.0         -6435.3     3544.6    -1.8155     0.0696  -1.339e+04      516.50\n",
            "-31.0         -6747.7     3631.0    -1.8584     0.0633  -1.387e+04      373.53\n",
            "-32.0         -6276.5     4009.5    -1.5654     0.1177  -1.414e+04      1587.1\n",
            "-33.0         -5789.6     4058.2    -1.4266     0.1539  -1.375e+04      2169.6\n",
            "-34.0         -4417.1     3938.0    -1.1217     0.2622  -1.214e+04      3306.2\n",
            "-35.0         -3288.4     3683.3    -0.8928     0.3721  -1.051e+04      3935.5\n",
            "-36.0         -2944.2     3669.0    -0.8025     0.4224  -1.014e+04      4251.6\n",
            "-37.0         -1048.3     3812.2    -0.2750     0.7834     -8524.9      6428.3\n",
            "-38.0          3674.2     4583.7     0.8016     0.4229     -5315.6   1.266e+04\n",
            "-4.0          -1853.6     1216.7    -1.5235     0.1278     -4239.8      532.54\n",
            "-5.0          -2770.9     1987.7    -1.3940     0.1635     -6669.3      1127.4\n",
            "-6.0          -3181.2     2352.4    -1.3523     0.1764     -7794.9      1432.4\n",
            "-7.0          -3056.1     2424.5    -1.2605     0.2076     -7811.1      1698.8\n",
            "-8.0          -2937.2     2353.4    -1.2481     0.2122     -7552.8      1678.4\n",
            "-9.0          -3562.4     2461.5    -1.4472     0.1480     -8390.0      1265.3\n",
            "0.0            388.51     692.51     0.5610     0.5749     -969.67      1746.7\n",
            "1.0            831.47     1402.6     0.5928     0.5534     -1919.4      3582.3\n",
            "10.0          -2236.5     2363.9    -0.9461     0.3442     -6872.7      2399.7\n",
            "11.0          -1653.7     2448.8    -0.6753     0.4996     -6456.4      3149.0\n",
            "12.0          -1764.6     2532.2    -0.6969     0.4860     -6730.8      3201.7\n",
            "13.0          -1656.7     2653.9    -0.6242     0.5325     -6861.7      3548.3\n",
            "14.0          -1212.1     2860.7    -0.4237     0.6718     -6822.7      4398.5\n",
            "15.0          -856.12     3037.2    -0.2819     0.7781     -6812.7      5100.5\n",
            "16.0          -1800.0     3033.7    -0.5933     0.5530     -7749.7      4149.8\n",
            "17.0          -1408.9     3131.3    -0.4500     0.6528     -7550.1      4732.3\n",
            "18.0          -1945.8     3045.3    -0.6389     0.5229     -7918.3      4026.7\n",
            "19.0          -2116.2     3025.6    -0.6994     0.4844     -8050.3      3817.8\n",
            "2.0            459.63     1597.2     0.2878     0.7735     -2672.8      3592.0\n",
            "20.0          -1504.5     3240.9    -0.4642     0.6426     -7860.7      4851.8\n",
            "21.0           2219.5     4527.4     0.4902     0.6240     -6659.8    1.11e+04\n",
            "22.0          -442.68     4796.6    -0.0923     0.9265     -9849.9      8964.5\n",
            "23.0           4285.3     8122.0     0.5276     0.5978  -1.164e+04   2.021e+04\n",
            "24.0          -475.43     5067.5    -0.0938     0.9253  -1.041e+04      9463.2\n",
            "25.0          -2875.0     4264.1    -0.6742     0.5002  -1.124e+04      5488.0\n",
            "26.0          -2630.6     5748.8    -0.4576     0.6473  -1.391e+04      8644.0\n",
            "27.0          -1348.3     7459.5    -0.1807     0.8566  -1.598e+04   1.328e+04\n",
            "28.0          -3683.7     7676.9    -0.4798     0.6314  -1.874e+04   1.137e+04\n",
            "29.0          -2870.2     5973.2    -0.4805     0.6309  -1.459e+04      8844.7\n",
            "3.0            756.91     2001.7     0.3781     0.7054     -3168.8      4682.6\n",
            "30.0          -2742.3     6444.5    -0.4255     0.6705  -1.538e+04      9896.9\n",
            "31.0          -1370.6     2935.1    -0.4670     0.6406     -7127.0      4385.8\n",
            "32.0           2978.7     8441.1     0.3529     0.7242  -1.358e+04   1.953e+04\n",
            "33.0           1682.3     3797.0     0.4431     0.6578     -5764.5      9129.2\n",
            "4.0            1244.7     2445.7     0.5089     0.6109     -3551.9      6041.3\n",
            "5.0            820.27     2342.8     0.3501     0.7263     -3774.5      5415.0\n",
            "6.0            0.8941     2278.1     0.0004     0.9997     -4467.0      4468.8\n",
            "7.0            30.681     2604.6     0.0118     0.9906     -5077.6      5138.9\n",
            "8.0           -1429.6     2271.6    -0.6293     0.5292     -5884.8      3025.5\n",
            "9.0           -2146.6     2318.9    -0.9257     0.3547     -6694.5      2401.3\n",
            "==============================================================================\n",
            "\n",
            "F-test for Poolability: 24.900\n",
            "P-value: 0.0000\n",
            "Distribution: F(94,1864)\n",
            "\n",
            "Included effects: Entity, Time\n"
          ],
          "name": "stdout"
        }
      ]
    },
    {
      "cell_type": "markdown",
      "metadata": {
        "id": "kdtQaQPY5FnA"
      },
      "source": [
        "# Interactive Graph of Cases\n",
        "This graph is an interactive graph that shows the cases for each week before and after the mandate. The mandate happens for these states at time 0. \n",
        "\n",
        "By hovering over the graph you can see the specific number of cases for whatever state is hovered over. There are other tools on the graph that allow you to zoom in or view a specific portion of the graph. "
      ]
    },
    {
      "cell_type": "code",
      "metadata": {
        "colab": {
          "base_uri": "https://localhost:8080/",
          "height": 559
        },
        "id": "JnelmAjNAJYm",
        "outputId": "e020534f-f135-48aa-aed1-9730221054c4"
      },
      "source": [
        "import plotly.express as px\n",
        "import matplotlib.pyplot as plt\n",
        "\n",
        "plt.figure(figsize=(20,20))\n",
        "fig = px.line(cases, x=\"week_diff\", y=\"weekly_cases\", color='State',\n",
        "              labels={\n",
        "                     \"weekly_cases\": \"Cases\",\n",
        "                     \"week_diff\": \"Weeks from Mandate\",\n",
        "                     \"State\": \"State\"\n",
        "                 },\n",
        "                title=\"Number of Cases Before and After Mandate\")\n",
        "fig.show()"
      ],
      "execution_count": 20,
      "outputs": [
        {
          "output_type": "display_data",
          "data": {
            "text/html": [
              "<html>\n",
              "<head><meta charset=\"utf-8\" /></head>\n",
              "<body>\n",
              "    <div>\n",
              "            <script src=\"https://cdnjs.cloudflare.com/ajax/libs/mathjax/2.7.5/MathJax.js?config=TeX-AMS-MML_SVG\"></script><script type=\"text/javascript\">if (window.MathJax) {MathJax.Hub.Config({SVG: {font: \"STIX-Web\"}});}</script>\n",
              "                <script type=\"text/javascript\">window.PlotlyConfig = {MathJaxConfig: 'local'};</script>\n",
              "        <script src=\"https://cdn.plot.ly/plotly-latest.min.js\"></script>    \n",
              "            <div id=\"3498c26c-07fc-47af-b044-394720b363f6\" class=\"plotly-graph-div\" style=\"height:525px; width:100%;\"></div>\n",
              "            <script type=\"text/javascript\">\n",
              "                \n",
              "                    window.PLOTLYENV=window.PLOTLYENV || {};\n",
              "                    \n",
              "                if (document.getElementById(\"3498c26c-07fc-47af-b044-394720b363f6\")) {\n",
              "                    Plotly.newPlot(\n",
              "                        '3498c26c-07fc-47af-b044-394720b363f6',\n",
              "                        [{\"hoverlabel\": {\"namelength\": 0}, \"hovertemplate\": \"State=Alabama<br>Weeks from Mandate=%{x}<br>Cases=%{y}\", \"legendgroup\": \"State=Alabama\", \"line\": {\"color\": \"#636efa\", \"dash\": \"solid\"}, \"mode\": \"lines\", \"name\": \"State=Alabama\", \"showlegend\": true, \"type\": \"scattergl\", \"x\": [-19.0, -18.0, -17.0, -16.0, -15.0, -14.0, -13.0, -12.0, -11.0, -10.0, -9.0, -8.0, -7.0, -6.0, -5.0, -4.0, -3.0, -2.0, -1.0, 0.0, 1.0, 2.0, 3.0, 4.0, 5.0, 6.0, 7.0, 8.0, 9.0, 10.0, 11.0, 12.0, 13.0, 14.0, 15.0, 16.0, 17.0, 18.0, 19.0, 20.0], \"xaxis\": \"x\", \"y\": [6.0, 119.0, 589.0, 912.0, 1630.0, 1310.0, 1268.0, 1081.0, 2057.0, 2006.0, 2475.0, 3210.0, 2684.0, 4558.0, 4948.0, 5534.0, 7779.0, 9085.0, 13287.0, 12896.0, 11219.0, 10824.0, 7407.0, 6952.0, 9357.0, 7914.0, 5843.0, 6518.0, 4975.0, 6127.0, 6146.0, 7136.0, 11614.0, 9009.0, 10197.0, 13361.0, 14865.0, 14285.0, 22596.0, 4640.0], \"yaxis\": \"y\"}, {\"hoverlabel\": {\"namelength\": 0}, \"hovertemplate\": \"State=Arizona<br>Weeks from Mandate=%{x}<br>Cases=%{y}\", \"legendgroup\": \"State=Arizona\", \"line\": {\"color\": \"#EF553B\", \"dash\": \"solid\"}, \"mode\": \"lines\", \"name\": \"State=Arizona\", \"showlegend\": true, \"type\": \"scattergl\", \"x\": [null, null, null, null, null, null, null, null, null, null, null, null, null, null, null, null, null, null, null, null, null, null, null, null, null, null, null, null, null, null, null, null, null, null, null, null, null, null, null, null, null, null, null, null, null, null], \"xaxis\": \"x\", \"y\": [0.0, 0.0, 0.0, 0.0, 0.0, 4.0, 7.0, 92.0, 669.0, 1246.0, 1374.0, 1326.0, 1561.0, 2084.0, 2596.0, 2671.0, 2409.0, 3215.0, 6262.0, 9256.0, 15425.0, 19954.0, 24464.0, 25375.0, 21342.0, 18722.0, 16964.0, 9207.0, 6444.0, 5239.0, 3408.0, 4030.0, 2411.0, 5535.0, 3275.0, 3577.0, 4582.0, 5427.0, 6486.0, 9064.0, 11422.0, 16016.0, 23597.0, 25777.0, 38412.0, 5178.0], \"yaxis\": \"y\"}, {\"hoverlabel\": {\"namelength\": 0}, \"hovertemplate\": \"State=Arkansas<br>Weeks from Mandate=%{x}<br>Cases=%{y}\", \"legendgroup\": \"State=Arkansas\", \"line\": {\"color\": \"#00cc96\", \"dash\": \"solid\"}, \"mode\": \"lines\", \"name\": \"State=Arkansas\", \"showlegend\": true, \"type\": \"scattergl\", \"x\": [-20.0, -19.0, -18.0, -17.0, -16.0, -15.0, -14.0, -13.0, -12.0, -11.0, -10.0, -9.0, -8.0, -7.0, -6.0, -5.0, -4.0, -3.0, -2.0, -1.0, 0.0, 1.0, 2.0, 3.0, 4.0, 5.0, 6.0, 7.0, 8.0, 9.0, 10.0, 11.0, 12.0, 13.0, 14.0, 15.0, 16.0, 17.0, 18.0, 19.0], \"xaxis\": \"x\", \"y\": [8.0, 109.0, 291.0, 334.0, 485.0, 549.0, 1132.0, 463.0, 375.0, 831.0, 1197.0, 1238.0, 2088.0, 2994.0, 3047.0, 4168.0, 3899.0, 4655.0, 4669.0, 5448.0, 5192.0, 5638.0, 3581.0, 3534.0, 4179.0, 4848.0, 4484.0, 5450.0, 5595.0, 5770.0, 5695.0, 6202.0, 6896.0, 6872.0, 8638.0, 11338.0, 11655.0, 11205.0, 14356.0, 2660.0], \"yaxis\": \"y\"}, {\"hoverlabel\": {\"namelength\": 0}, \"hovertemplate\": \"State=California<br>Weeks from Mandate=%{x}<br>Cases=%{y}\", \"legendgroup\": \"State=California\", \"line\": {\"color\": \"#ab63fa\", \"dash\": \"solid\"}, \"mode\": \"lines\", \"name\": \"State=California\", \"showlegend\": true, \"type\": \"scattergl\", \"x\": [-22.0, -21.0, -20.0, -19.0, -18.0, -17.0, -16.0, -15.0, -14.0, -13.0, -12.0, -11.0, -10.0, -9.0, -8.0, -7.0, -6.0, -5.0, -4.0, -3.0, -2.0, -1.0, 0.0, 1.0, 2.0, 3.0, 4.0, 5.0, 6.0, 7.0, 8.0, 9.0, 10.0, 11.0, 12.0, 13.0, 14.0, 15.0, 16.0, 17.0, 18.0, 19.0, 20.0, 21.0, 22.0, 23.0, 24.0], \"xaxis\": \"x\", \"y\": [0.0, 2.0, 3.0, 1.0, 2.0, 19.0, 72.0, 281.0, 1163.0, 4022.0, 8230.0, 8625.0, 8408.0, 11761.0, 11163.0, 13071.0, 12109.0, 13882.0, 17285.0, 19047.0, 21287.0, 24420.0, 36599.0, 53723.0, 54854.0, 63164.0, 70133.0, 56180.0, 46651.0, 65823.0, 43344.0, 37174.0, 34574.0, 23508.0, 24495.0, 21137.0, 22280.0, 22808.0, 21955.0, 30387.0, 28604.0, 37553.0, 54215.0, 82828.0, 96434.0, 136867.0, 56022.0], \"yaxis\": \"y\"}, {\"hoverlabel\": {\"namelength\": 0}, \"hovertemplate\": \"State=Colorado<br>Weeks from Mandate=%{x}<br>Cases=%{y}\", \"legendgroup\": \"State=Colorado\", \"line\": {\"color\": \"#FFA15A\", \"dash\": \"solid\"}, \"mode\": \"lines\", \"name\": \"State=Colorado\", \"showlegend\": true, \"type\": \"scattergl\", \"x\": [-20.0, -19.0, -18.0, -17.0, -16.0, -15.0, -14.0, -13.0, -12.0, -11.0, -10.0, -9.0, -8.0, -7.0, -6.0, -5.0, -4.0, -3.0, -2.0, -1.0, 0.0, 1.0, 2.0, 3.0, 4.0, 5.0, 6.0, 7.0, 8.0, 9.0, 10.0, 11.0, 12.0, 13.0, 14.0, 15.0, 16.0, 17.0, 18.0, 19.0, 20.0], \"xaxis\": \"x\", \"y\": [6.0, 95.0, 372.0, 1586.0, 2513.0, 2319.0, 2540.0, 2822.0, 3151.0, 3149.0, 2337.0, 2328.0, 2152.0, 1750.0, 1168.0, 1332.0, 1672.0, 1894.0, 2265.0, 3178.0, 4036.0, 3510.0, 3134.0, 2377.0, 2071.0, 2387.0, 1847.0, 1949.0, 3383.0, 4279.0, 3956.0, 5118.0, 6757.0, 9185.0, 13855.0, 20767.0, 31848.0, 34761.0, 31347.0, 31557.0, 8546.0], \"yaxis\": \"y\"}, {\"hoverlabel\": {\"namelength\": 0}, \"hovertemplate\": \"State=Connecticut<br>Weeks from Mandate=%{x}<br>Cases=%{y}\", \"legendgroup\": \"State=Connecticut\", \"line\": {\"color\": \"#19d3f3\", \"dash\": \"solid\"}, \"mode\": \"lines\", \"name\": \"State=Connecticut\", \"showlegend\": true, \"type\": \"scattergl\", \"x\": [-6.0, -5.0, -4.0, -3.0, -2.0, -1.0, 0.0, 1.0, 2.0, 3.0, 4.0, 5.0, 6.0, 7.0, 8.0, 9.0, 10.0, 11.0, 12.0, 13.0, 14.0, 15.0, 16.0, 17.0, 18.0, 19.0, 20.0, 21.0, 22.0, 23.0, 24.0, 25.0, 26.0, 27.0, 28.0, 29.0, 30.0, 31.0, 32.0, 33.0], \"xaxis\": \"x\", \"y\": [19.0, 203.0, 1301.0, 3752.0, 6234.0, 6040.0, 7032.0, 4705.0, 3697.0, 3719.0, 3319.0, 2015.0, 1796.0, 1176.0, 721.0, 491.0, 511.0, 570.0, 606.0, 883.0, 1034.0, 510.0, 577.0, 634.0, 976.0, 870.0, 961.0, 1201.0, 1060.0, 1710.0, 1741.0, 2792.0, 3222.0, 5155.0, 6918.0, 10520.0, 12824.0, 11112.0, 15134.0, 8129.0], \"yaxis\": \"y\"}, {\"hoverlabel\": {\"namelength\": 0}, \"hovertemplate\": \"State=Delaware<br>Weeks from Mandate=%{x}<br>Cases=%{y}\", \"legendgroup\": \"State=Delaware\", \"line\": {\"color\": \"#FF6692\", \"dash\": \"solid\"}, \"mode\": \"lines\", \"name\": \"State=Delaware\", \"showlegend\": true, \"type\": \"scattergl\", \"x\": [-8.0, -7.0, -6.0, -5.0, -4.0, -3.0, -2.0, -1.0, 0.0, 1.0, 2.0, 3.0, 4.0, 5.0, 6.0, 7.0, 8.0, 9.0, 10.0, 11.0, 12.0, 13.0, 14.0, 15.0, 16.0, 17.0, 18.0, 19.0, 20.0, 21.0, 22.0, 23.0, 24.0, 25.0, 26.0, 27.0, 28.0, 29.0, 30.0, 31.0], \"xaxis\": \"x\", \"y\": [3.0, 41.0, 169.0, 379.0, 886.0, 1059.0, 1038.0, 1462.0, 1239.0, 1270.0, 1143.0, 732.0, 423.0, 384.0, 452.0, 410.0, 905.0, 747.0, 686.0, 773.0, 702.0, 625.0, 894.0, 432.0, 511.0, 549.0, 834.0, 723.0, 707.0, 969.0, 873.0, 944.0, 905.0, 1104.0, 1307.0, 2137.0, 2926.0, 3349.0, 4426.0, 1615.0], \"yaxis\": \"y\"}, {\"hoverlabel\": {\"namelength\": 0}, \"hovertemplate\": \"State=District of Columbia<br>Weeks from Mandate=%{x}<br>Cases=%{y}\", \"legendgroup\": \"State=District of Columbia\", \"line\": {\"color\": \"#B6E880\", \"dash\": \"solid\"}, \"mode\": \"lines\", \"name\": \"State=District of Columbia\", \"showlegend\": true, \"type\": \"scattergl\", \"x\": [-21.0, -20.0, -19.0, -18.0, -17.0, -16.0, -15.0, -14.0, -13.0, -12.0, -11.0, -10.0, -9.0, -8.0, -7.0, -6.0, -5.0, -4.0, -3.0, -2.0, -1.0, 0.0, 1.0, 2.0, 3.0, 4.0, 5.0, 6.0, 7.0, 8.0, 9.0, 10.0, 11.0, 12.0, 13.0, 14.0, 15.0, 16.0, 17.0, 18.0, 19.0], \"xaxis\": \"x\", \"y\": [0.0, 15.0, 61.0, 227.0, 598.0, 876.0, 888.0, 1033.0, 1098.0, 1305.0, 940.0, 924.0, 751.0, 552.0, 440.0, 275.0, 232.0, 231.0, 354.0, 393.0, 523.0, 488.0, 448.0, 506.0, 375.0, 391.0, 313.0, 314.0, 350.0, 313.0, 258.0, 445.0, 416.0, 372.0, 560.0, 625.0, 923.0, 1147.0, 1347.0, 1564.0, 447.0], \"yaxis\": \"y\"}, {\"hoverlabel\": {\"namelength\": 0}, \"hovertemplate\": \"State=Florida<br>Weeks from Mandate=%{x}<br>Cases=%{y}\", \"legendgroup\": \"State=Florida\", \"line\": {\"color\": \"#FF97FF\", \"dash\": \"solid\"}, \"mode\": \"lines\", \"name\": \"State=Florida\", \"showlegend\": true, \"type\": \"scattergl\", \"x\": [null, null, null, null, null, null, null, null, null, null, null, null, null, null, null, null, null, null, null, null, null, null, null, null, null, null, null, null, null, null, null, null, null, null, null, null, null, null, null, null, null], \"xaxis\": \"x\", \"y\": [10.0, 58.0, 694.0, 3274.0, 7499.0, 7441.0, 6506.0, 5347.0, 4624.0, 4538.0, 4810.0, 5316.0, 5297.0, 7334.0, 10794.0, 20245.0, 38748.0, 57507.0, 64459.0, 83058.0, 76942.0, 65517.0, 46549.0, 43060.0, 27960.0, 21406.0, 24864.0, 17704.0, 19662.0, 17449.0, 15909.0, 14330.0, 23560.0, 23770.0, 26296.0, 34530.0, 38019.0, 56731.0, 53470.0, 64341.0, 16147.0], \"yaxis\": \"y\"}, {\"hoverlabel\": {\"namelength\": 0}, \"hovertemplate\": \"State=Georgia<br>Weeks from Mandate=%{x}<br>Cases=%{y}\", \"legendgroup\": \"State=Georgia\", \"line\": {\"color\": \"#FECB52\", \"dash\": \"solid\"}, \"mode\": \"lines\", \"name\": \"State=Georgia\", \"showlegend\": true, \"type\": \"scattergl\", \"x\": [null, null, null, null, null, null, null, null, null, null, null, null, null, null, null, null, null, null, null, null, null, null, null, null, null, null, null, null, null, null, null, null, null, null, null, null, null, null, null, null, null], \"xaxis\": \"x\", \"y\": [5.0, 58.0, 487.0, 1895.0, 3936.0, 5878.0, 4911.0, 5211.0, 5043.0, 4213.0, 4174.0, 4753.0, 3928.0, 4607.0, 5235.0, 6491.0, 10397.0, 16526.0, 18982.0, 21767.0, 22921.0, 23572.0, 22474.0, 21036.0, 17439.0, 15893.0, 13539.0, 11104.0, 11740.0, 9494.0, 8388.0, 29410.0, 12117.0, 11533.0, 13630.0, 16626.0, 18339.0, 23091.0, 19940.0, 30499.0, 7099.0], \"yaxis\": \"y\"}, {\"hoverlabel\": {\"namelength\": 0}, \"hovertemplate\": \"State=Idaho<br>Weeks from Mandate=%{x}<br>Cases=%{y}\", \"legendgroup\": \"State=Idaho\", \"line\": {\"color\": \"#636efa\", \"dash\": \"solid\"}, \"mode\": \"lines\", \"name\": \"State=Idaho\", \"showlegend\": true, \"type\": \"scattergl\", \"x\": [null, null, null, null, null, null, null, null, null, null, null, null, null, null, null, null, null, null, null, null, null, null, null, null, null, null, null, null, null, null, null, null, null, null, null, null, null, null, null, null], \"xaxis\": \"x\", \"y\": [4.0, 37.0, 220.0, 814.0, 362.0, 230.0, 219.0, 174.0, 171.0, 189.0, 207.0, 214.0, 299.0, 260.0, 607.0, 1313.0, 1888.0, 3153.0, 3849.0, 3487.0, 3311.0, 3362.0, 3027.0, 2188.0, 2066.0, 2010.0, 1704.0, 2036.0, 2787.0, 3291.0, 4225.0, 4655.0, 6382.0, 5833.0, 7731.0, 9097.0, 9687.0, 8672.0, 9780.0, 2669.0], \"yaxis\": \"y\"}, {\"hoverlabel\": {\"namelength\": 0}, \"hovertemplate\": \"State=Illinois<br>Weeks from Mandate=%{x}<br>Cases=%{y}\", \"legendgroup\": \"State=Illinois\", \"line\": {\"color\": \"#EF553B\", \"dash\": \"solid\"}, \"mode\": \"lines\", \"name\": \"State=Illinois\", \"showlegend\": true, \"type\": \"scattergl\", \"x\": [-15.0, -14.0, -13.0, -12.0, -11.0, -10.0, -9.0, -8.0, -7.0, -6.0, -5.0, -4.0, -3.0, -2.0, -1.0, 0.0, 1.0, 2.0, 3.0, 4.0, 5.0, 6.0, 7.0, 8.0, 9.0, 10.0, 11.0, 12.0, 13.0, 14.0, 15.0, 16.0, 17.0, 18.0, 19.0, 20.0, 21.0, 22.0, 23.0, 24.0, 25.0, 26.0, 27.0, 28.0, 29.0, 30.0, 31.0], \"xaxis\": \"x\", \"y\": [0.0, 1.0, 0.0, 0.0, 0.0, 1.0, 3.0, 60.0, 685.0, 2796.0, 6810.0, 8823.0, 9980.0, 12617.0, 16728.0, 17503.0, 16661.0, 15431.0, 11190.0, 7961.0, 5866.0, 4418.0, 5001.0, 5615.0, 6379.0, 7769.0, 9370.0, 10563.0, 12299.0, 11974.0, 13954.0, 13347.0, 17076.0, 12075.0, 13100.0, 13626.0, 14124.0, 16476.0, 24504.0, 31247.0, 40523.0, 62504.0, 85025.0, 83388.0, 66596.0, 67371.0, 16348.0], \"yaxis\": \"y\"}, {\"hoverlabel\": {\"namelength\": 0}, \"hovertemplate\": \"State=Indiana<br>Weeks from Mandate=%{x}<br>Cases=%{y}\", \"legendgroup\": \"State=Indiana\", \"line\": {\"color\": \"#00cc96\", \"dash\": \"solid\"}, \"mode\": \"lines\", \"name\": \"State=Indiana\", \"showlegend\": true, \"type\": \"scattergl\", \"x\": [-22.0, -21.0, -20.0, -19.0, -18.0, -17.0, -16.0, -15.0, -14.0, -13.0, -12.0, -11.0, -10.0, -9.0, -8.0, -7.0, -6.0, -5.0, -4.0, -3.0, -2.0, -1.0, 0.0, 1.0, 2.0, 3.0, 4.0, 5.0, 6.0, 7.0, 8.0, 9.0, 10.0, 11.0, 12.0, 13.0, 14.0, 15.0, 16.0, 17.0, 18.0], \"xaxis\": \"x\", \"y\": [0.0, 14.0, 113.0, 1111.0, 2736.0, 3519.0, 3236.0, 3837.0, 5062.0, 4610.0, 3680.0, 3755.0, 3390.0, 2864.0, 2607.0, 2600.0, 2572.0, 2921.0, 3730.0, 4687.0, 5985.0, 5743.0, 6252.0, 6536.0, 5764.0, 7187.0, 6582.0, 5683.0, 6205.0, 5837.0, 7595.0, 9375.0, 12611.0, 14486.0, 18951.0, 26406.0, 39223.0, 44372.0, 39887.0, 46065.0, 12258.0], \"yaxis\": \"y\"}, {\"hoverlabel\": {\"namelength\": 0}, \"hovertemplate\": \"State=Iowa<br>Weeks from Mandate=%{x}<br>Cases=%{y}\", \"legendgroup\": \"State=Iowa\", \"line\": {\"color\": \"#ab63fa\", \"dash\": \"solid\"}, \"mode\": \"lines\", \"name\": \"State=Iowa\", \"showlegend\": true, \"type\": \"scattergl\", \"x\": [null, null, null, null, null, null, null, null, null, null, null, null, null, null, null, null, null, null, null, null, null, null, null, null, null, null, null, null, null, null, null, null, null, null, null, null, null, null, null, null], \"xaxis\": \"x\", \"y\": [15.0, 50.0, 230.0, 488.0, 724.0, 1003.0, 2596.0, 3532.0, 3030.0, 2657.0, 2570.0, 2438.0, 2191.0, 2265.0, 1760.0, 2651.0, 2964.0, 3528.0, 3619.0, 3572.0, 3407.0, 3018.0, 3754.0, 3931.0, 7840.0, 5854.0, 4514.0, 5581.0, 6123.0, 6394.0, 6797.0, 7599.0, 8254.0, 13846.0, 21841.0, 32918.0, 25646.0, 17978.0, 16204.0, 2600.0], \"yaxis\": \"y\"}, {\"hoverlabel\": {\"namelength\": 0}, \"hovertemplate\": \"State=Kansas<br>Weeks from Mandate=%{x}<br>Cases=%{y}\", \"legendgroup\": \"State=Kansas\", \"line\": {\"color\": \"#FFA15A\", \"dash\": \"solid\"}, \"mode\": \"lines\", \"name\": \"State=Kansas\", \"showlegend\": true, \"type\": \"scattergl\", \"x\": [-18.0, -17.0, -16.0, -15.0, -14.0, -13.0, -12.0, -11.0, -10.0, -9.0, -8.0, -7.0, -6.0, -5.0, -4.0, -3.0, -2.0, -1.0, 0.0, 1.0, 2.0, 3.0, 4.0, 5.0, 6.0, 7.0, 8.0, 9.0, 10.0, 11.0, 12.0, 13.0, 14.0, 15.0, 16.0, 17.0, 18.0, 19.0, 20.0, 21.0, 22.0], \"xaxis\": \"x\", \"y\": [0.0, 7.0, 49.0, 215.0, 430.0, 580.0, 538.0, 1271.0, 1772.0, 2060.0, 1136.0, 1060.0, 728.0, 670.0, 678.0, 1023.0, 1549.0, 2398.0, 2818.0, 3255.0, 3226.0, 2683.0, 2845.0, 3302.0, 3250.0, 4365.0, 4142.0, 3347.0, 4022.0, 4432.0, 4572.0, 4747.0, 5423.0, 5561.0, 8594.0, 12834.0, 18057.0, 19567.0, 17294.0, 16361.0, 5763.0], \"yaxis\": \"y\"}, {\"hoverlabel\": {\"namelength\": 0}, \"hovertemplate\": \"State=Kentucky<br>Weeks from Mandate=%{x}<br>Cases=%{y}\", \"legendgroup\": \"State=Kentucky\", \"line\": {\"color\": \"#19d3f3\", \"dash\": \"solid\"}, \"mode\": \"lines\", \"name\": \"State=Kentucky\", \"showlegend\": true, \"type\": \"scattergl\", \"x\": [-19.0, -18.0, -17.0, -16.0, -15.0, -14.0, -13.0, -12.0, -11.0, -10.0, -9.0, -8.0, -7.0, -6.0, -5.0, -4.0, -3.0, -2.0, -1.0, 0.0, 1.0, 2.0, 3.0, 4.0, 5.0, 6.0, 7.0, 8.0, 9.0, 10.0, 11.0, 12.0, 13.0, 14.0, 15.0, 16.0, 17.0, 18.0, 19.0, 20.0, 21.0], \"xaxis\": \"x\", \"y\": [0.0, 17.0, 66.0, 310.0, 515.0, 942.0, 856.0, 1198.0, 976.0, 1588.0, 1304.0, 1039.0, 1075.0, 1472.0, 1246.0, 984.0, 1537.0, 1372.0, 2821.0, 3220.0, 4645.0, 4217.0, 4374.0, 4691.0, 4548.0, 4689.0, 6102.0, 4171.0, 4881.0, 4970.0, 5538.0, 6054.0, 7193.0, 8678.0, 11743.0, 12777.0, 16833.0, 20181.0, 18418.0, 24682.0, 4908.0], \"yaxis\": \"y\"}, {\"hoverlabel\": {\"namelength\": 0}, \"hovertemplate\": \"State=Louisiana<br>Weeks from Mandate=%{x}<br>Cases=%{y}\", \"legendgroup\": \"State=Louisiana\", \"line\": {\"color\": \"#FF6692\", \"dash\": \"solid\"}, \"mode\": \"lines\", \"name\": \"State=Louisiana\", \"showlegend\": true, \"type\": \"scattergl\", \"x\": [-18.0, -17.0, -16.0, -15.0, -14.0, -13.0, -12.0, -11.0, -10.0, -9.0, -8.0, -7.0, -6.0, -5.0, -4.0, -3.0, -2.0, -1.0, 0.0, 1.0, 2.0, 3.0, 4.0, 5.0, 6.0, 7.0, 8.0, 9.0, 10.0, 11.0, 12.0, 13.0, 14.0, 15.0, 16.0, 17.0, 18.0, 19.0, 20.0, 21.0], \"xaxis\": \"x\", \"y\": [76.0, 686.0, 2552.0, 9185.0, 7514.0, 3566.0, 2991.0, 2612.0, 2307.0, 2693.0, 2982.0, 2517.0, 2915.0, 3799.0, 3980.0, 5385.0, 8515.0, 13514.0, 11789.0, 15146.0, 12548.0, 12470.0, 7996.0, 5001.0, 5083.0, 5425.0, 4740.0, 4213.0, 3830.0, 3674.0, 4580.0, 4320.0, 4877.0, 4046.0, 5066.0, 10266.0, 14728.0, 13893.0, 16575.0, 4959.0], \"yaxis\": \"y\"}, {\"hoverlabel\": {\"namelength\": 0}, \"hovertemplate\": \"State=Maine<br>Weeks from Mandate=%{x}<br>Cases=%{y}\", \"legendgroup\": \"State=Maine\", \"line\": {\"color\": \"#B6E880\", \"dash\": \"solid\"}, \"mode\": \"lines\", \"name\": \"State=Maine\", \"showlegend\": true, \"type\": \"scattergl\", \"x\": [-8.0, -7.0, -6.0, -5.0, -4.0, -3.0, -2.0, -1.0, 0.0, 1.0, 2.0, 3.0, 4.0, 5.0, 6.0, 7.0, 8.0, 9.0, 10.0, 11.0, 12.0, 13.0, 14.0, 15.0, 16.0, 17.0, 18.0, 19.0, 20.0, 21.0, 22.0, 23.0, 24.0, 25.0, 26.0, 27.0, 28.0, 29.0, 30.0, 31.0], \"xaxis\": \"x\", \"y\": [2.0, 67.0, 141.0, 245.0, 160.0, 231.0, 143.0, 162.0, 256.0, 240.0, 365.0, 269.0, 242.0, 233.0, 181.0, 216.0, 243.0, 123.0, 126.0, 144.0, 147.0, 84.0, 118.0, 173.0, 172.0, 178.0, 167.0, 201.0, 225.0, 226.0, 210.0, 217.0, 224.0, 531.0, 935.0, 1188.0, 1332.0, 1165.0, 1839.0, 648.0], \"yaxis\": \"y\"}, {\"hoverlabel\": {\"namelength\": 0}, \"hovertemplate\": \"State=Maryland<br>Weeks from Mandate=%{x}<br>Cases=%{y}\", \"legendgroup\": \"State=Maryland\", \"line\": {\"color\": \"#FF97FF\", \"dash\": \"solid\"}, \"mode\": \"lines\", \"name\": \"State=Maryland\", \"showlegend\": true, \"type\": \"scattergl\", \"x\": [-7.0, -6.0, -5.0, -4.0, -3.0, -2.0, -1.0, 0.0, 1.0, 2.0, 3.0, 4.0, 5.0, 6.0, 7.0, 8.0, 9.0, 10.0, 11.0, 12.0, 13.0, 14.0, 15.0, 16.0, 17.0, 18.0, 19.0, 20.0, 21.0, 22.0, 23.0, 24.0, 25.0, 26.0, 27.0, 28.0, 29.0, 30.0, 31.0, 32.0, 33.0], \"xaxis\": \"x\", \"y\": [0.0, 24.0, 168.0, 871.0, 2059.0, 4569.0, 4685.0, 5465.0, 6724.0, 7070.0, 6445.0, 7525.0, 7054.0, 5437.0, 3836.0, 2630.0, 2467.0, 2692.0, 3336.0, 4713.0, 5844.0, 6308.0, 5232.0, 5080.0, 3803.0, 3750.0, 4314.0, 3772.0, 4231.0, 3221.0, 3866.0, 3975.0, 4294.0, 4396.0, 5734.0, 7605.0, 11041.0, 15886.0, 14478.0, 17942.0, 5102.0], \"yaxis\": \"y\"}, {\"hoverlabel\": {\"namelength\": 0}, \"hovertemplate\": \"State=Massachusetts<br>Weeks from Mandate=%{x}<br>Cases=%{y}\", \"legendgroup\": \"State=Massachusetts\", \"line\": {\"color\": \"#FECB52\", \"dash\": \"solid\"}, \"mode\": \"lines\", \"name\": \"State=Massachusetts\", \"showlegend\": true, \"type\": \"scattergl\", \"x\": [-15.0, -14.0, -13.0, -12.0, -11.0, -10.0, -9.0, -8.0, -7.0, -6.0, -5.0, -4.0, -3.0, -2.0, -1.0, 0.0, 1.0, 2.0, 3.0, 4.0, 5.0, 6.0, 7.0, 8.0, 9.0, 10.0, 11.0, 12.0, 13.0, 14.0, 15.0, 16.0, 17.0, 18.0, 19.0, 20.0, 21.0, 22.0, 23.0, 24.0, 25.0, 26.0, 27.0, 28.0, 29.0, 30.0], \"xaxis\": \"x\", \"y\": [0.0, 0.0, 0.0, 0.0, 0.0, 12.0, 125.0, 387.0, 3732.0, 7479.0, 11124.0, 13512.0, 16976.0, 12915.0, 10480.0, 8190.0, 6729.0, 4639.0, 6831.0, 2263.0, 1541.0, 1507.0, 1281.0, 1560.0, 1840.0, 2030.0, 2772.0, 2671.0, 2488.0, 2161.0, 2670.0, 1923.0, 2344.0, 2641.0, 2869.0, 4253.0, 4037.0, 4590.0, 6558.0, 9088.0, 11000.0, 16566.0, 18013.0, 18314.0, 29548.0, 7308.0], \"yaxis\": \"y\"}, {\"hoverlabel\": {\"namelength\": 0}, \"hovertemplate\": \"State=Michigan<br>Weeks from Mandate=%{x}<br>Cases=%{y}\", \"legendgroup\": \"State=Michigan\", \"line\": {\"color\": \"#636efa\", \"dash\": \"solid\"}, \"mode\": \"lines\", \"name\": \"State=Michigan\", \"showlegend\": true, \"type\": \"scattergl\", \"x\": [-31.0, -30.0, -29.0, -28.0, -27.0, -26.0, -25.0, -24.0, -23.0, -22.0, -21.0, -20.0, -19.0, -18.0, -17.0, -16.0, -15.0, -14.0, -13.0, -12.0, -11.0, -10.0, -9.0, -8.0, -7.0, -6.0, -5.0, -4.0, -3.0, -2.0, -1.0, 0.0, 1.0, 2.0, 3.0, 4.0, 5.0, 6.0, 7.0, 8.0], \"xaxis\": \"x\", \"y\": [31.0, 754.0, 3847.0, 9591.0, 9630.0, 6863.0, 6584.0, 5889.0, 3544.0, 3681.0, 3888.0, 2544.0, 7348.0, 1828.0, 1697.0, 2081.0, 2900.0, 3797.0, 4885.0, 4281.0, 5785.0, 4182.0, 4996.0, 4310.0, 5963.0, 5163.0, 5781.0, 4300.0, 6260.0, 6864.0, 8170.0, 9853.0, 16126.0, 21779.0, 31542.0, 46687.0, 52785.0, 49101.0, 48497.0, 9905.0], \"yaxis\": \"y\"}, {\"hoverlabel\": {\"namelength\": 0}, \"hovertemplate\": \"State=Minnesota<br>Weeks from Mandate=%{x}<br>Cases=%{y}\", \"legendgroup\": \"State=Minnesota\", \"line\": {\"color\": \"#EF553B\", \"dash\": \"solid\"}, \"mode\": \"lines\", \"name\": \"State=Minnesota\", \"showlegend\": true, \"type\": \"scattergl\", \"x\": [-21.0, -20.0, -19.0, -18.0, -17.0, -16.0, -15.0, -14.0, -13.0, -12.0, -11.0, -10.0, -9.0, -8.0, -7.0, -6.0, -5.0, -4.0, -3.0, -2.0, -1.0, 0.0, 1.0, 2.0, 3.0, 4.0, 5.0, 6.0, 7.0, 8.0, 9.0, 10.0, 11.0, 12.0, 13.0, 14.0, 15.0, 16.0, 17.0, 18.0, 19.0], \"xaxis\": \"x\", \"y\": [0.0, 20.0, 117.0, 304.0, 423.0, 562.0, 786.0, 1233.0, 2782.0, 4561.0, 4180.0, 4885.0, 4346.0, 3312.0, 2691.0, 2296.0, 2569.0, 2593.0, 3948.0, 3901.0, 4821.0, 4897.0, 4914.0, 4317.0, 4454.0, 5393.0, 5626.0, 3708.0, 5133.0, 6938.0, 7129.0, 8041.0, 10262.0, 11032.0, 16351.0, 26482.0, 41076.0, 46924.0, 41074.0, 41258.0, 10871.0], \"yaxis\": \"y\"}, {\"hoverlabel\": {\"namelength\": 0}, \"hovertemplate\": \"State=Mississippi<br>Weeks from Mandate=%{x}<br>Cases=%{y}\", \"legendgroup\": \"State=Mississippi\", \"line\": {\"color\": \"#00cc96\", \"dash\": \"solid\"}, \"mode\": \"lines\", \"name\": \"State=Mississippi\", \"showlegend\": true, \"type\": \"scattergl\", \"x\": [null, null, null, null, null, null, null, null, null, null, null, null, null, null, null, null, null, null, null, null, null, null, null, null, null, null, null, null, null, null, null, null, null, null, null, null, null, null, null, null], \"xaxis\": \"x\", \"y\": [5.0, 134.0, 529.0, 786.0, 1187.0, 1332.0, 1744.0, 1723.0, 1937.0, 1745.0, 1882.0, 2224.0, 1805.0, 2314.0, 1674.0, 4509.0, 5143.0, 4745.0, 6427.0, 9251.0, 8784.0, 6765.0, 5109.0, 5513.0, 4761.0, 4449.0, 3142.0, 3467.0, 3590.0, 3490.0, 4471.0, 5368.0, 5082.0, 5072.0, 5725.0, 7455.0, 9061.0, 7539.0, 13518.0, 2736.0], \"yaxis\": \"y\"}, {\"hoverlabel\": {\"namelength\": 0}, \"hovertemplate\": \"State=Missouri<br>Weeks from Mandate=%{x}<br>Cases=%{y}\", \"legendgroup\": \"State=Missouri\", \"line\": {\"color\": \"#ab63fa\", \"dash\": \"solid\"}, \"mode\": \"lines\", \"name\": \"State=Missouri\", \"showlegend\": true, \"type\": \"scattergl\", \"x\": [null, null, null, null, null, null, null, null, null, null, null, null, null, null, null, null, null, null, null, null, null, null, null, null, null, null, null, null, null, null, null, null, null, null, null, null, null, null, null, null, null], \"xaxis\": \"x\", \"y\": [0.0, 4.0, 88.0, 744.0, 1454.0, 1733.0, 1493.0, 1309.0, 1328.0, 1583.0, 1057.0, 1128.0, 1196.0, 1541.0, 1668.0, 1828.0, 2754.0, 3152.0, 4588.0, 5714.0, 7947.0, 9702.0, 6698.0, 8732.0, 8026.0, 8505.0, 9740.0, 9372.0, 10709.0, 9939.0, 8711.0, 13373.0, 10526.0, 13092.0, 16179.0, 23720.0, 34755.0, 31587.0, 26539.0, 28111.0, 7607.0], \"yaxis\": \"y\"}, {\"hoverlabel\": {\"namelength\": 0}, \"hovertemplate\": \"State=Montana<br>Weeks from Mandate=%{x}<br>Cases=%{y}\", \"legendgroup\": \"State=Montana\", \"line\": {\"color\": \"#FFA15A\", \"dash\": \"solid\"}, \"mode\": \"lines\", \"name\": \"State=Montana\", \"showlegend\": true, \"type\": \"scattergl\", \"x\": [-19.0, -18.0, -17.0, -16.0, -15.0, -14.0, -13.0, -12.0, -11.0, -10.0, -9.0, -8.0, -7.0, -6.0, -5.0, -4.0, -3.0, -2.0, -1.0, 0.0, 1.0, 2.0, 3.0, 4.0, 5.0, 6.0, 7.0, 8.0, 9.0, 10.0, 11.0, 12.0, 13.0, 14.0, 15.0, 16.0, 17.0, 18.0, 19.0, 20.0], \"xaxis\": \"x\", \"y\": [2.0, 23.0, 118.0, 134.0, 96.0, 49.0, 19.0, 9.0, 4.0, 10.0, 11.0, 26.0, 35.0, 48.0, 110.0, 154.0, 315.0, 510.0, 794.0, 789.0, 821.0, 808.0, 774.0, 729.0, 864.0, 922.0, 768.0, 1247.0, 1750.0, 2547.0, 3628.0, 4166.0, 4865.0, 5652.0, 6147.0, 6971.0, 8623.0, 6303.0, 6247.0, 1559.0], \"yaxis\": \"y\"}, {\"hoverlabel\": {\"namelength\": 0}, \"hovertemplate\": \"State=Nebraska<br>Weeks from Mandate=%{x}<br>Cases=%{y}\", \"legendgroup\": \"State=Nebraska\", \"line\": {\"color\": \"#19d3f3\", \"dash\": \"solid\"}, \"mode\": \"lines\", \"name\": \"State=Nebraska\", \"showlegend\": true, \"type\": \"scattergl\", \"x\": [null, null, null, null, null, null, null, null, null, null, null, null, null, null, null, null, null, null, null, null, null, null, null, null, null, null, null, null, null, null, null, null, null, null, null, null, null, null, null, null, null, null, null], \"xaxis\": \"x\", \"y\": [1.0, 2.0, 1.0, 15.0, 32.0, 61.0, 217.0, 379.0, 630.0, 1550.0, 2434.0, 2901.0, 1987.0, 1768.0, 1917.0, 1638.0, 1091.0, 1073.0, 1068.0, 1051.0, 1209.0, 1510.0, 1867.0, 1979.0, 1600.0, 1996.0, 1539.0, 1973.0, 2052.0, 2303.0, 2689.0, 2799.0, 3807.0, 4484.0, 5447.0, 5881.0, 7517.0, 11663.0, 14439.0, 16195.0, 12294.0, 13245.0, 2716.0], \"yaxis\": \"y\"}, {\"hoverlabel\": {\"namelength\": 0}, \"hovertemplate\": \"State=Nevada<br>Weeks from Mandate=%{x}<br>Cases=%{y}\", \"legendgroup\": \"State=Nevada\", \"line\": {\"color\": \"#FF6692\", \"dash\": \"solid\"}, \"mode\": \"lines\", \"name\": \"State=Nevada\", \"showlegend\": true, \"type\": \"scattergl\", \"x\": [-17.0, -16.0, -15.0, -14.0, -13.0, -12.0, -11.0, -10.0, -9.0, -8.0, -7.0, -6.0, -5.0, -4.0, -3.0, -2.0, -1.0, 0.0, 1.0, 2.0, 3.0, 4.0, 5.0, 6.0, 7.0, 8.0, 9.0, 10.0, 11.0, 12.0, 13.0, 14.0, 15.0, 16.0, 17.0, 18.0, 19.0, 20.0, 21.0, 22.0, 23.0], \"xaxis\": \"x\", \"y\": [0.0, 19.0, 144.0, 573.0, 1020.0, 962.0, 906.0, 913.0, 851.0, 656.0, 764.0, 959.0, 750.0, 975.0, 1498.0, 1985.0, 3423.0, 5271.0, 5241.0, 7694.0, 7387.0, 7214.0, 6274.0, 5167.0, 4502.0, 3426.0, 2608.0, 2107.0, 2233.0, 2735.0, 3365.0, 3634.0, 4385.0, 5087.0, 5909.0, 8482.0, 9902.0, 13382.0, 17003.0, 16574.0, 4972.0], \"yaxis\": \"y\"}, {\"hoverlabel\": {\"namelength\": 0}, \"hovertemplate\": \"State=New Hampshire<br>Weeks from Mandate=%{x}<br>Cases=%{y}\", \"legendgroup\": \"State=New Hampshire\", \"line\": {\"color\": \"#B6E880\", \"dash\": \"solid\"}, \"mode\": \"lines\", \"name\": \"State=New Hampshire\", \"showlegend\": true, \"type\": \"scattergl\", \"x\": [null, null, null, null, null, null, null, null, null, null, null, null, null, null, null, null, null, null, null, null, null, null, null, null, null, null, null, null, null, null, null, null, null, null, null, null, null, null, null, null, null], \"xaxis\": \"x\", \"y\": [3.0, 3.0, 58.0, 149.0, 407.0, 308.0, 413.0, 451.0, 636.0, 582.0, 545.0, 533.0, 456.0, 474.0, 280.0, 219.0, 199.0, 154.0, 153.0, 164.0, 227.0, 198.0, 205.0, 162.0, 112.0, 154.0, 178.0, 228.0, 268.0, 201.0, 476.0, 495.0, 533.0, 613.0, 846.0, 1157.0, 2070.0, 2970.0, 2721.0, 4136.0, 1678.0], \"yaxis\": \"y\"}, {\"hoverlabel\": {\"namelength\": 0}, \"hovertemplate\": \"State=New Jersey<br>Weeks from Mandate=%{x}<br>Cases=%{y}\", \"legendgroup\": \"State=New Jersey\", \"line\": {\"color\": \"#FF97FF\", \"dash\": \"solid\"}, \"mode\": \"lines\", \"name\": \"State=New Jersey\", \"showlegend\": true, \"type\": \"scattergl\", \"x\": [-19.0, -18.0, -17.0, -16.0, -15.0, -14.0, -13.0, -12.0, -11.0, -10.0, -9.0, -8.0, -7.0, -6.0, -5.0, -4.0, -3.0, -2.0, -1.0, 0.0, 1.0, 2.0, 3.0, 4.0, 5.0, 6.0, 7.0, 8.0, 9.0, 10.0, 11.0, 12.0, 13.0, 14.0, 15.0, 16.0, 17.0, 18.0, 19.0, 20.0, 21.0], \"xaxis\": \"x\", \"y\": [3.0, 71.0, 1261.0, 9788.0, 23000.0, 24027.0, 23269.0, 24103.0, 18194.0, 13368.0, 8004.0, 8015.0, 6504.0, 4285.0, 2712.0, 2229.0, 3893.0, 2162.0, 2017.0, 1882.0, 1686.0, 2866.0, 2043.0, 2550.0, 1894.0, 1689.0, 2430.0, 2596.0, 2974.0, 3541.0, 4722.0, 5302.0, 5862.0, 8601.0, 10551.0, 14703.0, 22155.0, 27314.0, 28253.0, 31718.0, 9593.0], \"yaxis\": \"y\"}, {\"hoverlabel\": {\"namelength\": 0}, \"hovertemplate\": \"State=New Mexico<br>Weeks from Mandate=%{x}<br>Cases=%{y}\", \"legendgroup\": \"State=New Mexico\", \"line\": {\"color\": \"#FECB52\", \"dash\": \"solid\"}, \"mode\": \"lines\", \"name\": \"State=New Mexico\", \"showlegend\": true, \"type\": \"scattergl\", \"x\": [-10.0, -9.0, -8.0, -7.0, -6.0, -5.0, -4.0, -3.0, -2.0, -1.0, 0.0, 1.0, 2.0, 3.0, 4.0, 5.0, 6.0, 7.0, 8.0, 9.0, 10.0, 11.0, 12.0, 13.0, 14.0, 15.0, 16.0, 17.0, 18.0, 19.0, 20.0, 21.0, 22.0, 23.0, 24.0, 25.0, 26.0, 27.0, 28.0, 29.0], \"xaxis\": \"x\", \"y\": [9.0, 44.0, 153.0, 334.0, 630.0, 624.0, 864.0, 1070.0, 1046.0, 1069.0, 948.0, 829.0, 1176.0, 821.0, 809.0, 1189.0, 1444.0, 1710.0, 1963.0, 2052.0, 2008.0, 1319.0, 1187.0, 1000.0, 876.0, 870.0, 613.0, 851.0, 1180.0, 1604.0, 2426.0, 3621.0, 4697.0, 5450.0, 7181.0, 9500.0, 16269.0, 14542.0, 12874.0, 3091.0], \"yaxis\": \"y\"}, {\"hoverlabel\": {\"namelength\": 0}, \"hovertemplate\": \"State=New York<br>Weeks from Mandate=%{x}<br>Cases=%{y}\", \"legendgroup\": \"State=New York\", \"line\": {\"color\": \"#636efa\", \"dash\": \"solid\"}, \"mode\": \"lines\", \"name\": \"State=New York\", \"showlegend\": true, \"type\": \"scattergl\", \"x\": [-7.0, -6.0, -5.0, -4.0, -3.0, -2.0, -1.0, 0.0, 1.0, 2.0, 3.0, 4.0, 5.0, 6.0, 7.0, 8.0, 9.0, 10.0, 11.0, 12.0, 13.0, 14.0, 15.0, 16.0, 17.0, 18.0, 19.0, 20.0, 21.0, 22.0, 23.0, 24.0, 25.0, 26.0, 27.0, 28.0, 29.0, 30.0, 31.0, 32.0, 33.0], \"xaxis\": \"x\", \"y\": [88.0, 521.0, 9761.0, 43146.0, 62446.0, 67027.0, 57552.0, 46359.0, 31233.0, 20385.0, 14617.0, 11609.0, 9726.0, 7631.0, 5300.0, 4635.0, 4632.0, 4617.0, 4438.0, 5282.0, 4905.0, 4566.0, 3884.0, 4562.0, 4264.0, 4241.0, 5375.0, 4277.0, 4417.0, 4974.0, 8609.0, 9789.0, 9756.0, 10942.0, 13655.0, 18131.0, 30954.0, 34273.0, 43619.0, 61702.0, 18089.0], \"yaxis\": \"y\"}, {\"hoverlabel\": {\"namelength\": 0}, \"hovertemplate\": \"State=North Carolina<br>Weeks from Mandate=%{x}<br>Cases=%{y}\", \"legendgroup\": \"State=North Carolina\", \"line\": {\"color\": \"#EF553B\", \"dash\": \"solid\"}, \"mode\": \"lines\", \"name\": \"State=North Carolina\", \"showlegend\": true, \"type\": \"scattergl\", \"x\": [-17.0, -16.0, -15.0, -14.0, -13.0, -12.0, -11.0, -10.0, -9.0, -8.0, -7.0, -6.0, -5.0, -4.0, -3.0, -2.0, -1.0, 0.0, 1.0, 2.0, 3.0, 4.0, 5.0, 6.0, 7.0, 8.0, 9.0, 10.0, 11.0, 12.0, 13.0, 14.0, 15.0, 16.0, 17.0, 18.0, 19.0, 20.0, 21.0, 22.0, 23.0], \"xaxis\": \"x\", \"y\": [1.0, 23.0, 159.0, 788.0, 1430.0, 1908.0, 1830.0, 2408.0, 2966.0, 2873.0, 3622.0, 4722.0, 5030.0, 7048.0, 8102.0, 8729.0, 9069.0, 11026.0, 12261.0, 14071.0, 13215.0, 12733.0, 10900.0, 9041.0, 10010.0, 11567.0, 10591.0, 8181.0, 8446.0, 13490.0, 10808.0, 12910.0, 14061.0, 14419.0, 16366.0, 16758.0, 18140.0, 23371.0, 25580.0, 30106.0, 11036.0], \"yaxis\": \"y\"}, {\"hoverlabel\": {\"namelength\": 0}, \"hovertemplate\": \"State=North Dakota<br>Weeks from Mandate=%{x}<br>Cases=%{y}\", \"legendgroup\": \"State=North Dakota\", \"line\": {\"color\": \"#00cc96\", \"dash\": \"solid\"}, \"mode\": \"lines\", \"name\": \"State=North Dakota\", \"showlegend\": true, \"type\": \"scattergl\", \"x\": [null, null, null, null, null, null, null, null, null, null, null, null, null, null, null, null, null, null, null, null, null, null, null, null, null, null, null, null, null, null, null, null, null, null, null, null, null, null, null, null], \"xaxis\": \"x\", \"y\": [0.0, 27.0, 65.0, 93.0, 107.0, 235.0, 275.0, 350.0, 311.0, 384.0, 517.0, 227.0, 262.0, 242.0, 196.0, 210.0, 321.0, 459.0, 664.0, 829.0, 866.0, 906.0, 936.0, 1292.0, 1748.0, 1850.0, 1816.0, 2456.0, 2773.0, 2754.0, 3495.0, 4634.0, 5613.0, 7042.0, 9288.0, 9669.0, 8668.0, 6395.0, 4569.0, 838.0], \"yaxis\": \"y\"}, {\"hoverlabel\": {\"namelength\": 0}, \"hovertemplate\": \"State=Ohio<br>Weeks from Mandate=%{x}<br>Cases=%{y}\", \"legendgroup\": \"State=Ohio\", \"line\": {\"color\": \"#ab63fa\", \"dash\": \"solid\"}, \"mode\": \"lines\", \"name\": \"State=Ohio\", \"showlegend\": true, \"type\": \"scattergl\", \"x\": [-20.0, -19.0, -18.0, -17.0, -16.0, -15.0, -14.0, -13.0, -12.0, -11.0, -10.0, -9.0, -8.0, -7.0, -6.0, -5.0, -4.0, -3.0, -2.0, -1.0, 0.0, 1.0, 2.0, 3.0, 4.0, 5.0, 6.0, 7.0, 8.0, 9.0, 10.0, 11.0, 12.0, 13.0, 14.0, 15.0, 16.0, 17.0, 18.0, 19.0], \"xaxis\": \"x\", \"y\": [23.0, 221.0, 1159.0, 2333.0, 2512.0, 3971.0, 5365.0, 3748.0, 4362.0, 3779.0, 3932.0, 3626.0, 3077.0, 2737.0, 3414.0, 5193.0, 6728.0, 8031.0, 9608.0, 9362.0, 8903.0, 7882.0, 7705.0, 6491.0, 7175.0, 8445.0, 6783.0, 6979.0, 6462.0, 7957.0, 9492.0, 12767.0, 15581.0, 19891.0, 30030.0, 44516.0, 53043.0, 63417.0, 60729.0, 16865.0], \"yaxis\": \"y\"}, {\"hoverlabel\": {\"namelength\": 0}, \"hovertemplate\": \"State=Oklahoma<br>Weeks from Mandate=%{x}<br>Cases=%{y}\", \"legendgroup\": \"State=Oklahoma\", \"line\": {\"color\": \"#FFA15A\", \"dash\": \"solid\"}, \"mode\": \"lines\", \"name\": \"State=Oklahoma\", \"showlegend\": true, \"type\": \"scattergl\", \"x\": [null, null, null, null, null, null, null, null, null, null, null, null, null, null, null, null, null, null, null, null, null, null, null, null, null, null, null, null, null, null, null, null, null, null, null, null, null, null, null, null, null], \"xaxis\": \"x\", \"y\": [0.0, 3.0, 49.0, 324.0, 782.0, 709.0, 702.0, 623.0, 658.0, 639.0, 747.0, 723.0, 458.0, 642.0, 1013.0, 1964.0, 2605.0, 3003.0, 4134.0, 5277.0, 5025.0, 6381.0, 5364.0, 4728.0, 4801.0, 4754.0, 5834.0, 5472.0, 7145.0, 7706.0, 7238.0, 7873.0, 7882.0, 9182.0, 7077.0, 13496.0, 13947.0, 20719.0, 22900.0, 19421.0, 5144.0], \"yaxis\": \"y\"}, {\"hoverlabel\": {\"namelength\": 0}, \"hovertemplate\": \"State=Oregon<br>Weeks from Mandate=%{x}<br>Cases=%{y}\", \"legendgroup\": \"State=Oregon\", \"line\": {\"color\": \"#19d3f3\", \"dash\": \"solid\"}, \"mode\": \"lines\", \"name\": \"State=Oregon\", \"showlegend\": true, \"type\": \"scattergl\", \"x\": [-19.0, -18.0, -17.0, -16.0, -15.0, -14.0, -13.0, -12.0, -11.0, -10.0, -9.0, -8.0, -7.0, -6.0, -5.0, -4.0, -3.0, -2.0, -1.0, 0.0, 1.0, 2.0, 3.0, 4.0, 5.0, 6.0, 7.0, 8.0, 9.0, 10.0, 11.0, 12.0, 13.0, 14.0, 15.0, 16.0, 17.0, 18.0, 19.0, 20.0, 21.0, 22.0], \"xaxis\": \"x\", \"y\": [0.0, 5.0, 30.0, 101.0, 343.0, 520.0, 447.0, 397.0, 409.0, 382.0, 525.0, 452.0, 276.0, 297.0, 487.0, 871.0, 1139.0, 1428.0, 1827.0, 1914.0, 2380.0, 2261.0, 1967.0, 2194.0, 2007.0, 1449.0, 1582.0, 1564.0, 1072.0, 1444.0, 1981.0, 1931.0, 2413.0, 2391.0, 2423.0, 3184.0, 4664.0, 6431.0, 7650.0, 8838.0, 10737.0, 2560.0], \"yaxis\": \"y\"}, {\"hoverlabel\": {\"namelength\": 0}, \"hovertemplate\": \"State=Pennsylvania<br>Weeks from Mandate=%{x}<br>Cases=%{y}\", \"legendgroup\": \"State=Pennsylvania\", \"line\": {\"color\": \"#FF6692\", \"dash\": \"solid\"}, \"mode\": \"lines\", \"name\": \"State=Pennsylvania\", \"showlegend\": true, \"type\": \"scattergl\", \"x\": [-18.0, -17.0, -16.0, -15.0, -14.0, -13.0, -12.0, -11.0, -10.0, -9.0, -8.0, -7.0, -6.0, -5.0, -4.0, -3.0, -2.0, -1.0, 0.0, 1.0, 2.0, 3.0, 4.0, 5.0, 6.0, 7.0, 8.0, 9.0, 10.0, 11.0, 12.0, 13.0, 14.0, 15.0, 16.0, 17.0, 18.0, 19.0, 20.0, 21.0, 22.0], \"xaxis\": \"x\", \"y\": [2.0, 43.0, 341.0, 2427.0, 7295.0, 11664.0, 9968.0, 9884.0, 9445.0, 7590.0, 6567.0, 5874.0, 4687.0, 3718.0, 3481.0, 2690.0, 3722.0, 4522.0, 5330.0, 5528.0, 6341.0, 6347.0, 5198.0, 5865.0, 4629.0, 3849.0, 5725.0, 5334.0, 5626.0, 5676.0, 6333.0, 9534.0, 9866.0, 11700.0, 15446.0, 19766.0, 31814.0, 42851.0, 48996.0, 59830.0, 16337.0], \"yaxis\": \"y\"}, {\"hoverlabel\": {\"namelength\": 0}, \"hovertemplate\": \"State=Rhode Island<br>Weeks from Mandate=%{x}<br>Cases=%{y}\", \"legendgroup\": \"State=Rhode Island\", \"line\": {\"color\": \"#B6E880\", \"dash\": \"solid\"}, \"mode\": \"lines\", \"name\": \"State=Rhode Island\", \"showlegend\": true, \"type\": \"scattergl\", \"x\": [-10.0, -9.0, -8.0, -7.0, -6.0, -5.0, -4.0, -3.0, -2.0, -1.0, 0.0, 1.0, 2.0, 3.0, 4.0, 5.0, 6.0, 7.0, 8.0, 9.0, 10.0, 11.0, 12.0, 13.0, 14.0, 15.0, 16.0, 17.0, 18.0, 19.0, 20.0, 21.0, 22.0, 23.0, 24.0, 25.0, 26.0, 27.0, 28.0, 29.0, 30.0], \"xaxis\": \"x\", \"y\": [1.0, 17.0, 46.0, 173.0, 567.0, 1543.0, 2142.0, 2638.0, 2160.0, 1700.0, 1445.0, 1518.0, 867.0, 622.0, 506.0, 390.0, 324.0, 330.0, 321.0, 481.0, 431.0, 798.0, 716.0, 597.0, 687.0, 661.0, 560.0, 662.0, 715.0, 691.0, 895.0, 1218.0, 1397.0, 2427.0, 2756.0, 3506.0, 5149.0, 6472.0, 5953.0, 8183.0, 3681.0], \"yaxis\": \"y\"}, {\"hoverlabel\": {\"namelength\": 0}, \"hovertemplate\": \"State=South Carolina<br>Weeks from Mandate=%{x}<br>Cases=%{y}\", \"legendgroup\": \"State=South Carolina\", \"line\": {\"color\": \"#FF97FF\", \"dash\": \"solid\"}, \"mode\": \"lines\", \"name\": \"State=South Carolina\", \"showlegend\": true, \"type\": \"scattergl\", \"x\": [null, null, null, null, null, null, null, null, null, null, null, null, null, null, null, null, null, null, null, null, null, null, null, null, null, null, null, null, null, null, null, null, null, null, null, null, null, null, null, null, null], \"xaxis\": \"x\", \"y\": [0.0, 17.0, 153.0, 489.0, 1256.0, 1290.0, 1039.0, 1007.0, 1236.0, 1042.0, 1130.0, 1234.0, 1499.0, 2522.0, 4039.0, 5831.0, 8153.0, 11447.0, 11313.0, 12913.0, 12396.0, 10591.0, 8861.0, 6422.0, 5413.0, 5954.0, 7040.0, 5689.0, 7262.0, 8033.0, 5618.0, 5730.0, 6593.0, 6127.0, 7271.0, 8130.0, 9272.0, 11004.0, 9893.0, 14324.0, 5417.0], \"yaxis\": \"y\"}, {\"hoverlabel\": {\"namelength\": 0}, \"hovertemplate\": \"State=South Dakota<br>Weeks from Mandate=%{x}<br>Cases=%{y}\", \"legendgroup\": \"State=South Dakota\", \"line\": {\"color\": \"#FECB52\", \"dash\": \"solid\"}, \"mode\": \"lines\", \"name\": \"State=South Dakota\", \"showlegend\": true, \"type\": \"scattergl\", \"x\": [null, null, null, null, null, null, null, null, null, null, null, null, null, null, null, null, null, null, null, null, null, null, null, null, null, null, null, null, null, null, null, null, null, null, null, null, null, null, null, null], \"xaxis\": \"x\", \"y\": [4.0, 5.0, 54.0, 144.0, 414.0, 915.0, 606.0, 440.0, 806.0, 566.0, 509.0, 492.0, 407.0, 466.0, 392.0, 401.0, 402.0, 426.0, 408.0, 443.0, 562.0, 610.0, 641.0, 1017.0, 1807.0, 1947.0, 1548.0, 2007.0, 2689.0, 2853.0, 3961.0, 4664.0, 5530.0, 7851.0, 7984.0, 10206.0, 8032.0, 6885.0, 6205.0, 1196.0], \"yaxis\": \"y\"}, {\"hoverlabel\": {\"namelength\": 0}, \"hovertemplate\": \"State=Tennessee<br>Weeks from Mandate=%{x}<br>Cases=%{y}\", \"legendgroup\": \"State=Tennessee\", \"line\": {\"color\": \"#636efa\", \"dash\": \"solid\"}, \"mode\": \"lines\", \"name\": \"State=Tennessee\", \"showlegend\": true, \"type\": \"scattergl\", \"x\": [null, null, null, null, null, null, null, null, null, null, null, null, null, null, null, null, null, null, null, null, null, null, null, null, null, null, null, null, null, null, null, null, null, null, null, null, null, null, null, null, null], \"xaxis\": \"x\", \"y\": [0.0, 31.0, 280.0, 1051.0, 1902.0, 1718.0, 1641.0, 2294.0, 3458.0, 2299.0, 2529.0, 2561.0, 2508.0, 3683.0, 3257.0, 4607.0, 5590.0, 9419.0, 10749.0, 14537.0, 13941.0, 16996.0, 12270.0, 11046.0, 10595.0, 9944.0, 10583.0, 8659.0, 10465.0, 9188.0, 8665.0, 12723.0, 13015.0, 17583.0, 16732.0, 16680.0, 25994.0, 29893.0, 26395.0, 32930.0, 10508.0], \"yaxis\": \"y\"}, {\"hoverlabel\": {\"namelength\": 0}, \"hovertemplate\": \"State=Texas<br>Weeks from Mandate=%{x}<br>Cases=%{y}\", \"legendgroup\": \"State=Texas\", \"line\": {\"color\": \"#EF553B\", \"dash\": \"solid\"}, \"mode\": \"lines\", \"name\": \"State=Texas\", \"showlegend\": true, \"type\": \"scattergl\", \"x\": [-21.0, -20.0, -19.0, -18.0, -17.0, -16.0, -15.0, -14.0, -13.0, -12.0, -11.0, -10.0, -9.0, -8.0, -7.0, -6.0, -5.0, -4.0, -3.0, -2.0, -1.0, 0.0, 1.0, 2.0, 3.0, 4.0, 5.0, 6.0, 7.0, 8.0, 9.0, 10.0, 11.0, 12.0, 13.0, 14.0, 15.0, 16.0, 17.0, 18.0, 19.0, 20.0, 21.0, 22.0], \"xaxis\": \"x\", \"y\": [1.0, 2.0, 7.0, 8.0, 50.0, 478.0, 1834.0, 4185.0, 6642.0, 5719.0, 5567.0, 6939.0, 7416.0, 9017.0, 7585.0, 7945.0, 11681.0, 13043.0, 23474.0, 37045.0, 47068.0, 62573.0, 71779.0, 61550.0, 56615.0, 56381.0, 50738.0, 43813.0, 34678.0, 29412.0, 22675.0, 30993.0, 47728.0, 34769.0, 30347.0, 34235.0, 42664.0, 46794.0, 56386.0, 73295.0, 81182.0, 70361.0, 99134.0, 24406.0], \"yaxis\": \"y\"}, {\"hoverlabel\": {\"namelength\": 0}, \"hovertemplate\": \"State=Utah<br>Weeks from Mandate=%{x}<br>Cases=%{y}\", \"legendgroup\": \"State=Utah\", \"line\": {\"color\": \"#00cc96\", \"dash\": \"solid\"}, \"mode\": \"lines\", \"name\": \"State=Utah\", \"showlegend\": true, \"type\": \"scattergl\", \"x\": [-38.0, -37.0, -36.0, -35.0, -34.0, -33.0, -32.0, -31.0, -30.0, -29.0, -28.0, -27.0, -26.0, -25.0, -24.0, -23.0, -22.0, -21.0, -20.0, -19.0, -18.0, -17.0, -16.0, -15.0, -14.0, -13.0, -12.0, -11.0, -10.0, -9.0, -8.0, -7.0, -6.0, -5.0, -4.0, -3.0, -2.0, -1.0, 0.0, 1.0, 2.0, 3.0], \"xaxis\": \"x\", \"y\": [0.0, 2.0, 18.0, 117.0, 470.0, 818.0, 782.0, 734.0, 1008.0, 1031.0, 1122.0, 965.0, 1192.0, 1291.0, 2315.0, 2195.0, 3112.0, 3562.0, 3982.0, 4354.0, 4359.0, 4193.0, 3131.0, 2776.0, 2592.0, 2537.0, 2536.0, 2878.0, 2912.0, 5617.0, 6663.0, 6675.0, 8466.0, 8600.0, 9840.0, 11533.0, 15568.0, 20903.0, 22846.0, 18100.0, 20757.0, 4794.0], \"yaxis\": \"y\"}, {\"hoverlabel\": {\"namelength\": 0}, \"hovertemplate\": \"State=Vermont<br>Weeks from Mandate=%{x}<br>Cases=%{y}\", \"legendgroup\": \"State=Vermont\", \"line\": {\"color\": \"#ab63fa\", \"dash\": \"solid\"}, \"mode\": \"lines\", \"name\": \"State=Vermont\", \"showlegend\": true, \"type\": \"scattergl\", \"x\": [-22.0, -21.0, -20.0, -19.0, -18.0, -17.0, -16.0, -15.0, -14.0, -13.0, -12.0, -11.0, -10.0, -9.0, -8.0, -7.0, -6.0, -5.0, -4.0, -3.0, -2.0, -1.0, 0.0, 1.0, 2.0, 3.0, 4.0, 5.0, 6.0, 7.0, 8.0, 9.0, 10.0, 11.0, 12.0, 13.0, 14.0, 15.0, 16.0, 17.0, 18.0], \"xaxis\": \"x\", \"y\": [0.0, 4.0, 44.0, 162.0, 250.0, 250.0, 92.0, 40.0, 43.0, 35.0, 13.0, 20.0, 23.0, 69.0, 79.0, 22.0, 53.0, 38.0, 45.0, 55.0, 58.0, 25.0, 33.0, 55.0, 44.0, 52.0, 42.0, 30.0, 33.0, 29.0, 39.0, 79.0, 69.0, 117.0, 136.0, 168.0, 496.0, 703.0, 487.0, 861.0, 186.0], \"yaxis\": \"y\"}, {\"hoverlabel\": {\"namelength\": 0}, \"hovertemplate\": \"State=Virginia<br>Weeks from Mandate=%{x}<br>Cases=%{y}\", \"legendgroup\": \"State=Virginia\", \"line\": {\"color\": \"#FFA15A\", \"dash\": \"solid\"}, \"mode\": \"lines\", \"name\": \"State=Virginia\", \"showlegend\": true, \"type\": \"scattergl\", \"x\": [-13.0, -12.0, -11.0, -10.0, -9.0, -8.0, -7.0, -6.0, -5.0, -4.0, -3.0, -2.0, -1.0, 0.0, 1.0, 2.0, 3.0, 4.0, 5.0, 6.0, 7.0, 8.0, 9.0, 10.0, 11.0, 12.0, 13.0, 14.0, 15.0, 16.0, 17.0, 18.0, 19.0, 20.0, 21.0, 22.0, 23.0, 24.0, 25.0, 26.0, 27.0], \"xaxis\": \"x\", \"y\": [0.0, 41.0, 110.0, 587.0, 1407.0, 2356.0, 2977.0, 4312.0, 5366.0, 5465.0, 6487.0, 6066.0, 7862.0, 5786.0, 4472.0, 3574.0, 3804.0, 3862.0, 4673.0, 6591.0, 7236.0, 7192.0, 8388.0, 6561.0, 6322.0, 6737.0, 6918.0, 7213.0, 6715.0, 5753.0, 5395.0, 7102.0, 7333.0, 7134.0, 8818.0, 8115.0, 9926.0, 14880.0, 17938.0, 17556.0, 7697.0], \"yaxis\": \"y\"}, {\"hoverlabel\": {\"namelength\": 0}, \"hovertemplate\": \"State=Washington<br>Weeks from Mandate=%{x}<br>Cases=%{y}\", \"legendgroup\": \"State=Washington\", \"line\": {\"color\": \"#19d3f3\", \"dash\": \"solid\"}, \"mode\": \"lines\", \"name\": \"State=Washington\", \"showlegend\": true, \"type\": \"scattergl\", \"x\": [-23.0, -22.0, -21.0, -20.0, -19.0, -18.0, -17.0, -16.0, -15.0, -14.0, -13.0, -12.0, -11.0, -10.0, -9.0, -8.0, -7.0, -6.0, -5.0, -4.0, -3.0, -2.0, -1.0, 0.0, 1.0, 2.0, 3.0, 4.0, 5.0, 6.0, 7.0, 8.0, 9.0, 10.0, 11.0, 12.0, 13.0, 14.0, 15.0, 16.0, 17.0, 18.0, 19.0, 20.0, 21.0, 22.0, 23.0], \"xaxis\": \"x\", \"y\": [0.0, 0.0, 0.0, 0.0, 0.0, 9.0, 100.0, 499.0, 1046.0, 2656.0, 3188.0, 2728.0, 1623.0, 1715.0, 1818.0, 2246.0, 1707.0, 1404.0, 1878.0, 2149.0, 2153.0, 2225.0, 3565.0, 3768.0, 4527.0, 6563.0, 5994.0, 5765.0, 4137.0, 4790.0, 4217.0, 3481.0, 3066.0, 3057.0, 2929.0, 3628.0, 3213.0, 4063.0, 4831.0, 4718.0, 5808.0, 8640.0, 12392.0, 15079.0, 18045.0, 17343.0, 7389.0], \"yaxis\": \"y\"}, {\"hoverlabel\": {\"namelength\": 0}, \"hovertemplate\": \"State=West Virginia<br>Weeks from Mandate=%{x}<br>Cases=%{y}\", \"legendgroup\": \"State=West Virginia\", \"line\": {\"color\": \"#FF6692\", \"dash\": \"solid\"}, \"mode\": \"lines\", \"name\": \"State=West Virginia\", \"showlegend\": true, \"type\": \"scattergl\", \"x\": [-17.0, -16.0, -15.0, -14.0, -13.0, -12.0, -11.0, -10.0, -9.0, -8.0, -7.0, -6.0, -5.0, -4.0, -3.0, -2.0, -1.0, 0.0, 1.0, 2.0, 3.0, 4.0, 5.0, 6.0, 7.0, 8.0, 9.0, 10.0, 11.0, 12.0, 13.0, 14.0, 15.0, 16.0, 17.0, 18.0, 19.0, 20.0, 21.0], \"xaxis\": \"x\", \"y\": [11.0, 101.0, 169.0, 311.0, 232.0, 200.0, 160.0, 163.0, 122.0, 259.0, 260.0, 147.0, 138.0, 226.0, 281.0, 424.0, 941.0, 776.0, 899.0, 914.0, 828.0, 894.0, 728.0, 782.0, 1322.0, 1232.0, 1353.0, 1284.0, 1310.0, 1445.0, 1888.0, 1911.0, 2748.0, 3282.0, 5050.0, 6806.0, 6247.0, 7727.0, 2556.0], \"yaxis\": \"y\"}, {\"hoverlabel\": {\"namelength\": 0}, \"hovertemplate\": \"State=Wisconsin<br>Weeks from Mandate=%{x}<br>Cases=%{y}\", \"legendgroup\": \"State=Wisconsin\", \"line\": {\"color\": \"#B6E880\", \"dash\": \"solid\"}, \"mode\": \"lines\", \"name\": \"State=Wisconsin\", \"showlegend\": true, \"type\": \"scattergl\", \"x\": [-26.0, -25.0, -24.0, -23.0, -22.0, -21.0, -20.0, -19.0, -18.0, -17.0, -16.0, -15.0, -14.0, -13.0, -12.0, -11.0, -10.0, -9.0, -8.0, -7.0, -6.0, -5.0, -4.0, -3.0, -2.0, -1.0, 0.0, 1.0, 2.0, 3.0, 4.0, 5.0, 6.0, 7.0, 8.0, 9.0, 10.0, 11.0, 12.0, 13.0, 14.0, 15.0, 16.0, 17.0, 18.0], \"xaxis\": \"x\", \"y\": [0.0, 0.0, 0.0, 0.0, 0.0, 26.0, 254.0, 761.0, 1070.0, 1101.0, 986.0, 1563.0, 2023.0, 2314.0, 2452.0, 2645.0, 3319.0, 2482.0, 4029.0, 2288.0, 2921.0, 4008.0, 4852.0, 5217.0, 6617.0, 6329.0, 6167.0, 5329.0, 5180.0, 5027.0, 5750.0, 7585.0, 12507.0, 14640.0, 17769.0, 17734.0, 19900.0, 29487.0, 32731.0, 39698.0, 46036.0, 48615.0, 32780.0, 32919.0, 5497.0], \"yaxis\": \"y\"}, {\"hoverlabel\": {\"namelength\": 0}, \"hovertemplate\": \"State=Wyoming<br>Weeks from Mandate=%{x}<br>Cases=%{y}\", \"legendgroup\": \"State=Wyoming\", \"line\": {\"color\": \"#FF97FF\", \"dash\": \"solid\"}, \"mode\": \"lines\", \"name\": \"State=Wyoming\", \"showlegend\": true, \"type\": \"scattergl\", \"x\": [null, null, null, null, null, null, null, null, null, null, null, null, null, null, null, null, null, null, null, null, null, null, null, null, null, null, null, null, null, null, null, null, null, null, null, null, null, null, null, null], \"xaxis\": \"x\", \"y\": [2.0, 21.0, 61.0, 104.0, 154.0, 69.0, 65.0, 102.0, 74.0, 88.0, 72.0, 85.0, 41.0, 111.0, 129.0, 213.0, 214.0, 233.0, 269.0, 338.0, 323.0, 244.0, 222.0, 316.0, 241.0, 222.0, 291.0, 483.0, 685.0, 900.0, 1090.0, 1361.0, 1989.0, 2493.0, 3299.0, 5284.0, 5529.0, 4519.0, 4012.0, 1044.0], \"yaxis\": \"y\"}],\n",
              "                        {\"legend\": {\"tracegroupgap\": 0}, \"template\": {\"data\": {\"bar\": [{\"error_x\": {\"color\": \"#2a3f5f\"}, \"error_y\": {\"color\": \"#2a3f5f\"}, \"marker\": {\"line\": {\"color\": \"#E5ECF6\", \"width\": 0.5}}, \"type\": \"bar\"}], \"barpolar\": [{\"marker\": {\"line\": {\"color\": \"#E5ECF6\", \"width\": 0.5}}, \"type\": \"barpolar\"}], \"carpet\": [{\"aaxis\": {\"endlinecolor\": \"#2a3f5f\", \"gridcolor\": \"white\", \"linecolor\": \"white\", \"minorgridcolor\": \"white\", \"startlinecolor\": \"#2a3f5f\"}, \"baxis\": {\"endlinecolor\": \"#2a3f5f\", \"gridcolor\": \"white\", \"linecolor\": \"white\", \"minorgridcolor\": \"white\", \"startlinecolor\": \"#2a3f5f\"}, \"type\": \"carpet\"}], \"choropleth\": [{\"colorbar\": {\"outlinewidth\": 0, \"ticks\": \"\"}, \"type\": \"choropleth\"}], \"contour\": [{\"colorbar\": {\"outlinewidth\": 0, \"ticks\": \"\"}, \"colorscale\": [[0.0, \"#0d0887\"], [0.1111111111111111, \"#46039f\"], [0.2222222222222222, \"#7201a8\"], [0.3333333333333333, \"#9c179e\"], [0.4444444444444444, \"#bd3786\"], [0.5555555555555556, \"#d8576b\"], [0.6666666666666666, \"#ed7953\"], [0.7777777777777778, \"#fb9f3a\"], [0.8888888888888888, \"#fdca26\"], [1.0, \"#f0f921\"]], \"type\": \"contour\"}], \"contourcarpet\": [{\"colorbar\": {\"outlinewidth\": 0, \"ticks\": \"\"}, \"type\": \"contourcarpet\"}], \"heatmap\": [{\"colorbar\": {\"outlinewidth\": 0, \"ticks\": \"\"}, \"colorscale\": [[0.0, \"#0d0887\"], [0.1111111111111111, \"#46039f\"], [0.2222222222222222, \"#7201a8\"], [0.3333333333333333, \"#9c179e\"], [0.4444444444444444, \"#bd3786\"], [0.5555555555555556, \"#d8576b\"], [0.6666666666666666, \"#ed7953\"], [0.7777777777777778, \"#fb9f3a\"], [0.8888888888888888, \"#fdca26\"], [1.0, \"#f0f921\"]], \"type\": \"heatmap\"}], \"heatmapgl\": [{\"colorbar\": {\"outlinewidth\": 0, \"ticks\": \"\"}, \"colorscale\": [[0.0, \"#0d0887\"], [0.1111111111111111, \"#46039f\"], [0.2222222222222222, \"#7201a8\"], [0.3333333333333333, \"#9c179e\"], [0.4444444444444444, \"#bd3786\"], [0.5555555555555556, \"#d8576b\"], [0.6666666666666666, \"#ed7953\"], [0.7777777777777778, \"#fb9f3a\"], [0.8888888888888888, \"#fdca26\"], [1.0, \"#f0f921\"]], \"type\": \"heatmapgl\"}], \"histogram\": [{\"marker\": {\"colorbar\": {\"outlinewidth\": 0, \"ticks\": \"\"}}, \"type\": \"histogram\"}], \"histogram2d\": [{\"colorbar\": {\"outlinewidth\": 0, \"ticks\": \"\"}, \"colorscale\": [[0.0, \"#0d0887\"], [0.1111111111111111, \"#46039f\"], [0.2222222222222222, \"#7201a8\"], [0.3333333333333333, \"#9c179e\"], [0.4444444444444444, \"#bd3786\"], [0.5555555555555556, \"#d8576b\"], [0.6666666666666666, \"#ed7953\"], [0.7777777777777778, \"#fb9f3a\"], [0.8888888888888888, \"#fdca26\"], [1.0, \"#f0f921\"]], \"type\": \"histogram2d\"}], \"histogram2dcontour\": [{\"colorbar\": {\"outlinewidth\": 0, \"ticks\": \"\"}, \"colorscale\": [[0.0, \"#0d0887\"], [0.1111111111111111, \"#46039f\"], [0.2222222222222222, \"#7201a8\"], [0.3333333333333333, \"#9c179e\"], [0.4444444444444444, \"#bd3786\"], [0.5555555555555556, \"#d8576b\"], [0.6666666666666666, \"#ed7953\"], [0.7777777777777778, \"#fb9f3a\"], [0.8888888888888888, \"#fdca26\"], [1.0, \"#f0f921\"]], \"type\": \"histogram2dcontour\"}], \"mesh3d\": [{\"colorbar\": {\"outlinewidth\": 0, \"ticks\": \"\"}, \"type\": \"mesh3d\"}], \"parcoords\": [{\"line\": {\"colorbar\": {\"outlinewidth\": 0, \"ticks\": \"\"}}, \"type\": \"parcoords\"}], \"pie\": [{\"automargin\": true, \"type\": \"pie\"}], \"scatter\": [{\"marker\": {\"colorbar\": {\"outlinewidth\": 0, \"ticks\": \"\"}}, \"type\": \"scatter\"}], \"scatter3d\": [{\"line\": {\"colorbar\": {\"outlinewidth\": 0, \"ticks\": \"\"}}, \"marker\": {\"colorbar\": {\"outlinewidth\": 0, \"ticks\": \"\"}}, \"type\": \"scatter3d\"}], \"scattercarpet\": [{\"marker\": {\"colorbar\": {\"outlinewidth\": 0, \"ticks\": \"\"}}, \"type\": \"scattercarpet\"}], \"scattergeo\": [{\"marker\": {\"colorbar\": {\"outlinewidth\": 0, \"ticks\": \"\"}}, \"type\": \"scattergeo\"}], \"scattergl\": [{\"marker\": {\"colorbar\": {\"outlinewidth\": 0, \"ticks\": \"\"}}, \"type\": \"scattergl\"}], \"scattermapbox\": [{\"marker\": {\"colorbar\": {\"outlinewidth\": 0, \"ticks\": \"\"}}, \"type\": \"scattermapbox\"}], \"scatterpolar\": [{\"marker\": {\"colorbar\": {\"outlinewidth\": 0, \"ticks\": \"\"}}, \"type\": \"scatterpolar\"}], \"scatterpolargl\": [{\"marker\": {\"colorbar\": {\"outlinewidth\": 0, \"ticks\": \"\"}}, \"type\": \"scatterpolargl\"}], \"scatterternary\": [{\"marker\": {\"colorbar\": {\"outlinewidth\": 0, \"ticks\": \"\"}}, \"type\": \"scatterternary\"}], \"surface\": [{\"colorbar\": {\"outlinewidth\": 0, \"ticks\": \"\"}, \"colorscale\": [[0.0, \"#0d0887\"], [0.1111111111111111, \"#46039f\"], [0.2222222222222222, \"#7201a8\"], [0.3333333333333333, \"#9c179e\"], [0.4444444444444444, \"#bd3786\"], [0.5555555555555556, \"#d8576b\"], [0.6666666666666666, \"#ed7953\"], [0.7777777777777778, \"#fb9f3a\"], [0.8888888888888888, \"#fdca26\"], [1.0, \"#f0f921\"]], \"type\": \"surface\"}], \"table\": [{\"cells\": {\"fill\": {\"color\": \"#EBF0F8\"}, \"line\": {\"color\": \"white\"}}, \"header\": {\"fill\": {\"color\": \"#C8D4E3\"}, \"line\": {\"color\": \"white\"}}, \"type\": \"table\"}]}, \"layout\": {\"annotationdefaults\": {\"arrowcolor\": \"#2a3f5f\", \"arrowhead\": 0, \"arrowwidth\": 1}, \"coloraxis\": {\"colorbar\": {\"outlinewidth\": 0, \"ticks\": \"\"}}, \"colorscale\": {\"diverging\": [[0, \"#8e0152\"], [0.1, \"#c51b7d\"], [0.2, \"#de77ae\"], [0.3, \"#f1b6da\"], [0.4, \"#fde0ef\"], [0.5, \"#f7f7f7\"], [0.6, \"#e6f5d0\"], [0.7, \"#b8e186\"], [0.8, \"#7fbc41\"], [0.9, \"#4d9221\"], [1, \"#276419\"]], \"sequential\": [[0.0, \"#0d0887\"], [0.1111111111111111, \"#46039f\"], [0.2222222222222222, \"#7201a8\"], [0.3333333333333333, \"#9c179e\"], [0.4444444444444444, \"#bd3786\"], [0.5555555555555556, \"#d8576b\"], [0.6666666666666666, \"#ed7953\"], [0.7777777777777778, \"#fb9f3a\"], [0.8888888888888888, \"#fdca26\"], [1.0, \"#f0f921\"]], \"sequentialminus\": [[0.0, \"#0d0887\"], [0.1111111111111111, \"#46039f\"], [0.2222222222222222, \"#7201a8\"], [0.3333333333333333, \"#9c179e\"], [0.4444444444444444, \"#bd3786\"], [0.5555555555555556, \"#d8576b\"], [0.6666666666666666, \"#ed7953\"], [0.7777777777777778, \"#fb9f3a\"], [0.8888888888888888, \"#fdca26\"], [1.0, \"#f0f921\"]]}, \"colorway\": [\"#636efa\", \"#EF553B\", \"#00cc96\", \"#ab63fa\", \"#FFA15A\", \"#19d3f3\", \"#FF6692\", \"#B6E880\", \"#FF97FF\", \"#FECB52\"], \"font\": {\"color\": \"#2a3f5f\"}, \"geo\": {\"bgcolor\": \"white\", \"lakecolor\": \"white\", \"landcolor\": \"#E5ECF6\", \"showlakes\": true, \"showland\": true, \"subunitcolor\": \"white\"}, \"hoverlabel\": {\"align\": \"left\"}, \"hovermode\": \"closest\", \"mapbox\": {\"style\": \"light\"}, \"paper_bgcolor\": \"white\", \"plot_bgcolor\": \"#E5ECF6\", \"polar\": {\"angularaxis\": {\"gridcolor\": \"white\", \"linecolor\": \"white\", \"ticks\": \"\"}, \"bgcolor\": \"#E5ECF6\", \"radialaxis\": {\"gridcolor\": \"white\", \"linecolor\": \"white\", \"ticks\": \"\"}}, \"scene\": {\"xaxis\": {\"backgroundcolor\": \"#E5ECF6\", \"gridcolor\": \"white\", \"gridwidth\": 2, \"linecolor\": \"white\", \"showbackground\": true, \"ticks\": \"\", \"zerolinecolor\": \"white\"}, \"yaxis\": {\"backgroundcolor\": \"#E5ECF6\", \"gridcolor\": \"white\", \"gridwidth\": 2, \"linecolor\": \"white\", \"showbackground\": true, \"ticks\": \"\", \"zerolinecolor\": \"white\"}, \"zaxis\": {\"backgroundcolor\": \"#E5ECF6\", \"gridcolor\": \"white\", \"gridwidth\": 2, \"linecolor\": \"white\", \"showbackground\": true, \"ticks\": \"\", \"zerolinecolor\": \"white\"}}, \"shapedefaults\": {\"line\": {\"color\": \"#2a3f5f\"}}, \"ternary\": {\"aaxis\": {\"gridcolor\": \"white\", \"linecolor\": \"white\", \"ticks\": \"\"}, \"baxis\": {\"gridcolor\": \"white\", \"linecolor\": \"white\", \"ticks\": \"\"}, \"bgcolor\": \"#E5ECF6\", \"caxis\": {\"gridcolor\": \"white\", \"linecolor\": \"white\", \"ticks\": \"\"}}, \"title\": {\"x\": 0.05}, \"xaxis\": {\"automargin\": true, \"gridcolor\": \"white\", \"linecolor\": \"white\", \"ticks\": \"\", \"title\": {\"standoff\": 15}, \"zerolinecolor\": \"white\", \"zerolinewidth\": 2}, \"yaxis\": {\"automargin\": true, \"gridcolor\": \"white\", \"linecolor\": \"white\", \"ticks\": \"\", \"title\": {\"standoff\": 15}, \"zerolinecolor\": \"white\", \"zerolinewidth\": 2}}}, \"title\": {\"text\": \"Number of Cases Before and After Mandate\"}, \"xaxis\": {\"anchor\": \"y\", \"domain\": [0.0, 1.0], \"title\": {\"text\": \"Weeks from Mandate\"}}, \"yaxis\": {\"anchor\": \"x\", \"domain\": [0.0, 1.0], \"title\": {\"text\": \"Cases\"}}},\n",
              "                        {\"responsive\": true}\n",
              "                    ).then(function(){\n",
              "                            \n",
              "var gd = document.getElementById('3498c26c-07fc-47af-b044-394720b363f6');\n",
              "var x = new MutationObserver(function (mutations, observer) {{\n",
              "        var display = window.getComputedStyle(gd).display;\n",
              "        if (!display || display === 'none') {{\n",
              "            console.log([gd, 'removed!']);\n",
              "            Plotly.purge(gd);\n",
              "            observer.disconnect();\n",
              "        }}\n",
              "}});\n",
              "\n",
              "// Listen for the removal of the full notebook cells\n",
              "var notebookContainer = gd.closest('#notebook-container');\n",
              "if (notebookContainer) {{\n",
              "    x.observe(notebookContainer, {childList: true});\n",
              "}}\n",
              "\n",
              "// Listen for the clearing of the current output cell\n",
              "var outputEl = gd.closest('.output');\n",
              "if (outputEl) {{\n",
              "    x.observe(outputEl, {childList: true});\n",
              "}}\n",
              "\n",
              "                        })\n",
              "                };\n",
              "                \n",
              "            </script>\n",
              "        </div>\n",
              "</body>\n",
              "</html>"
            ]
          },
          "metadata": {
            "tags": []
          }
        },
        {
          "output_type": "display_data",
          "data": {
            "text/plain": [
              "<Figure size 1440x1440 with 0 Axes>"
            ]
          },
          "metadata": {
            "tags": []
          }
        }
      ]
    },
    {
      "cell_type": "code",
      "metadata": {
        "id": "FQgkV1pyAsCt"
      },
      "source": [
        ""
      ],
      "execution_count": null,
      "outputs": []
    }
  ]
}