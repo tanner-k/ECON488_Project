{
  "nbformat": 4,
  "nbformat_minor": 0,
  "metadata": {
    "colab": {
      "name": "DD_COVID19.ipynb",
      "provenance": [],
      "collapsed_sections": [],
      "authorship_tag": "ABX9TyPDSwaYyZvoGVTMM28XHBDJ",
      "include_colab_link": true
    },
    "kernelspec": {
      "name": "python3",
      "display_name": "Python 3"
    }
  },
  "cells": [
    {
      "cell_type": "markdown",
      "metadata": {
        "id": "view-in-github",
        "colab_type": "text"
      },
      "source": [
        "<a href=\"https://colab.research.google.com/github/tanner-k/ECON488_Project/blob/main/DD_COVID19.ipynb\" target=\"_parent\"><img src=\"https://colab.research.google.com/assets/colab-badge.svg\" alt=\"Open In Colab\"/></a>"
      ]
    },
    {
      "cell_type": "code",
      "metadata": {
        "id": "T3L3WON-jRN6"
      },
      "source": [
        "#Import the libraries needed to do the analysis for the project\n",
        "import pandas as pd\n",
        "import numpy as np"
      ],
      "execution_count": 1,
      "outputs": []
    },
    {
      "cell_type": "code",
      "metadata": {
        "id": "_YlBllcBrF9K"
      },
      "source": [
        "#Read in the data for the project\n",
        "df = pd.read_csv('https://raw.githubusercontent.com/nytimes/covid-19-data/master/us-states.csv')"
      ],
      "execution_count": 2,
      "outputs": []
    },
    {
      "cell_type": "code",
      "metadata": {
        "id": "QrxntoWAtheB",
        "colab": {
          "base_uri": "https://localhost:8080/",
          "height": 419
        },
        "outputId": "1a345623-09ea-4ce9-c594-dd8cbe173397"
      },
      "source": [
        "df"
      ],
      "execution_count": 3,
      "outputs": [
        {
          "output_type": "execute_result",
          "data": {
            "text/html": [
              "<div>\n",
              "<style scoped>\n",
              "    .dataframe tbody tr th:only-of-type {\n",
              "        vertical-align: middle;\n",
              "    }\n",
              "\n",
              "    .dataframe tbody tr th {\n",
              "        vertical-align: top;\n",
              "    }\n",
              "\n",
              "    .dataframe thead th {\n",
              "        text-align: right;\n",
              "    }\n",
              "</style>\n",
              "<table border=\"1\" class=\"dataframe\">\n",
              "  <thead>\n",
              "    <tr style=\"text-align: right;\">\n",
              "      <th></th>\n",
              "      <th>date</th>\n",
              "      <th>state</th>\n",
              "      <th>fips</th>\n",
              "      <th>cases</th>\n",
              "      <th>deaths</th>\n",
              "    </tr>\n",
              "  </thead>\n",
              "  <tbody>\n",
              "    <tr>\n",
              "      <th>0</th>\n",
              "      <td>2020-01-21</td>\n",
              "      <td>Washington</td>\n",
              "      <td>53</td>\n",
              "      <td>1</td>\n",
              "      <td>0</td>\n",
              "    </tr>\n",
              "    <tr>\n",
              "      <th>1</th>\n",
              "      <td>2020-01-22</td>\n",
              "      <td>Washington</td>\n",
              "      <td>53</td>\n",
              "      <td>1</td>\n",
              "      <td>0</td>\n",
              "    </tr>\n",
              "    <tr>\n",
              "      <th>2</th>\n",
              "      <td>2020-01-23</td>\n",
              "      <td>Washington</td>\n",
              "      <td>53</td>\n",
              "      <td>1</td>\n",
              "      <td>0</td>\n",
              "    </tr>\n",
              "    <tr>\n",
              "      <th>3</th>\n",
              "      <td>2020-01-24</td>\n",
              "      <td>Illinois</td>\n",
              "      <td>17</td>\n",
              "      <td>1</td>\n",
              "      <td>0</td>\n",
              "    </tr>\n",
              "    <tr>\n",
              "      <th>4</th>\n",
              "      <td>2020-01-24</td>\n",
              "      <td>Washington</td>\n",
              "      <td>53</td>\n",
              "      <td>1</td>\n",
              "      <td>0</td>\n",
              "    </tr>\n",
              "    <tr>\n",
              "      <th>...</th>\n",
              "      <td>...</td>\n",
              "      <td>...</td>\n",
              "      <td>...</td>\n",
              "      <td>...</td>\n",
              "      <td>...</td>\n",
              "    </tr>\n",
              "    <tr>\n",
              "      <th>14474</th>\n",
              "      <td>2020-11-20</td>\n",
              "      <td>Virginia</td>\n",
              "      <td>51</td>\n",
              "      <td>213331</td>\n",
              "      <td>3912</td>\n",
              "    </tr>\n",
              "    <tr>\n",
              "      <th>14475</th>\n",
              "      <td>2020-11-20</td>\n",
              "      <td>Washington</td>\n",
              "      <td>53</td>\n",
              "      <td>147251</td>\n",
              "      <td>2738</td>\n",
              "    </tr>\n",
              "    <tr>\n",
              "      <th>14476</th>\n",
              "      <td>2020-11-20</td>\n",
              "      <td>West Virginia</td>\n",
              "      <td>54</td>\n",
              "      <td>38480</td>\n",
              "      <td>639</td>\n",
              "    </tr>\n",
              "    <tr>\n",
              "      <th>14477</th>\n",
              "      <td>2020-11-20</td>\n",
              "      <td>Wisconsin</td>\n",
              "      <td>55</td>\n",
              "      <td>365190</td>\n",
              "      <td>3106</td>\n",
              "    </tr>\n",
              "    <tr>\n",
              "      <th>14478</th>\n",
              "      <td>2020-11-20</td>\n",
              "      <td>Wyoming</td>\n",
              "      <td>56</td>\n",
              "      <td>27129</td>\n",
              "      <td>176</td>\n",
              "    </tr>\n",
              "  </tbody>\n",
              "</table>\n",
              "<p>14479 rows × 5 columns</p>\n",
              "</div>"
            ],
            "text/plain": [
              "             date          state  fips   cases  deaths\n",
              "0      2020-01-21     Washington    53       1       0\n",
              "1      2020-01-22     Washington    53       1       0\n",
              "2      2020-01-23     Washington    53       1       0\n",
              "3      2020-01-24       Illinois    17       1       0\n",
              "4      2020-01-24     Washington    53       1       0\n",
              "...           ...            ...   ...     ...     ...\n",
              "14474  2020-11-20       Virginia    51  213331    3912\n",
              "14475  2020-11-20     Washington    53  147251    2738\n",
              "14476  2020-11-20  West Virginia    54   38480     639\n",
              "14477  2020-11-20      Wisconsin    55  365190    3106\n",
              "14478  2020-11-20        Wyoming    56   27129     176\n",
              "\n",
              "[14479 rows x 5 columns]"
            ]
          },
          "metadata": {
            "tags": []
          },
          "execution_count": 3
        }
      ]
    },
    {
      "cell_type": "code",
      "metadata": {
        "id": "bZ4hPF5ntjYx"
      },
      "source": [
        "#Create a variable for the list of states we want to include in our analysis. \n",
        "included_states = ['Washington', 'Illinois', 'California', 'Arizona', 'Massachusetts',\n",
        "       'Wisconsin', 'Texas', 'Nebraska', 'Utah', 'Oregon', 'Florida',\n",
        "       'New York', 'Rhode Island', 'Georgia', 'New Hampshire',\n",
        "       'North Carolina', 'New Jersey', 'Colorado', 'Maryland', 'Nevada',\n",
        "       'Tennessee', 'Indiana', 'Kentucky', 'Minnesota',\n",
        "       'Oklahoma', 'Pennsylvania', 'South Carolina',\n",
        "       'District of Columbia', 'Kansas', 'Missouri', 'Vermont',\n",
        "       'Virginia', 'Connecticut', 'Iowa', 'Louisiana', 'Ohio', 'Michigan',\n",
        "       'South Dakota', 'Arkansas', 'Delaware', 'Mississippi',\n",
        "       'New Mexico', 'North Dakota', 'Wyoming', 'Maine',\n",
        "       'Alabama', 'Idaho', 'Montana', 'West Virginia']"
      ],
      "execution_count": 4,
      "outputs": []
    },
    {
      "cell_type": "code",
      "metadata": {
        "id": "wC4OBu4AqOcH"
      },
      "source": [
        "#Keep only the states we want to include in our analysis\n",
        "df = df.loc[df.state.isin(included_states)]\n",
        "\n",
        "#Organize the data by state and by date\n",
        "df = df.sort_values(by=['state', 'date'],ascending=[True, True])"
      ],
      "execution_count": 5,
      "outputs": []
    },
    {
      "cell_type": "code",
      "metadata": {
        "id": "yfhEv5ttrrau",
        "colab": {
          "base_uri": "https://localhost:8080/",
          "height": 297
        },
        "outputId": "119acb4b-b8cf-4242-c4cd-8766d08c8301"
      },
      "source": [
        "#Create daily counts of cases and deaths\n",
        "df['daily_cases'] = df.groupby(by='state')['cases'].diff().fillna(0)\n",
        "df['daily_deaths'] = df.groupby(by='state')['deaths'].diff().fillna(0)\n",
        "\n",
        "#Eliminate negative values from transitioning from state to state\n",
        "df[df['daily_cases'] < 0] = 0\n",
        "df[df['daily_deaths'] < 0] = 0\n",
        "\n",
        "df.loc[df.state=='New York'].describe()"
      ],
      "execution_count": 6,
      "outputs": [
        {
          "output_type": "execute_result",
          "data": {
            "text/html": [
              "<div>\n",
              "<style scoped>\n",
              "    .dataframe tbody tr th:only-of-type {\n",
              "        vertical-align: middle;\n",
              "    }\n",
              "\n",
              "    .dataframe tbody tr th {\n",
              "        vertical-align: top;\n",
              "    }\n",
              "\n",
              "    .dataframe thead th {\n",
              "        text-align: right;\n",
              "    }\n",
              "</style>\n",
              "<table border=\"1\" class=\"dataframe\">\n",
              "  <thead>\n",
              "    <tr style=\"text-align: right;\">\n",
              "      <th></th>\n",
              "      <th>fips</th>\n",
              "      <th>cases</th>\n",
              "      <th>deaths</th>\n",
              "      <th>daily_cases</th>\n",
              "      <th>daily_deaths</th>\n",
              "    </tr>\n",
              "  </thead>\n",
              "  <tbody>\n",
              "    <tr>\n",
              "      <th>count</th>\n",
              "      <td>261.0</td>\n",
              "      <td>261.000000</td>\n",
              "      <td>261.000000</td>\n",
              "      <td>261.000000</td>\n",
              "      <td>261.000000</td>\n",
              "    </tr>\n",
              "    <tr>\n",
              "      <th>mean</th>\n",
              "      <td>36.0</td>\n",
              "      <td>356702.360153</td>\n",
              "      <td>25844.260536</td>\n",
              "      <td>2247.521073</td>\n",
              "      <td>129.513410</td>\n",
              "    </tr>\n",
              "    <tr>\n",
              "      <th>std</th>\n",
              "      <td>0.0</td>\n",
              "      <td>154562.473031</td>\n",
              "      <td>11282.469648</td>\n",
              "      <td>2619.908351</td>\n",
              "      <td>244.197581</td>\n",
              "    </tr>\n",
              "    <tr>\n",
              "      <th>min</th>\n",
              "      <td>36.0</td>\n",
              "      <td>1.000000</td>\n",
              "      <td>0.000000</td>\n",
              "      <td>0.000000</td>\n",
              "      <td>0.000000</td>\n",
              "    </tr>\n",
              "    <tr>\n",
              "      <th>25%</th>\n",
              "      <td>36.0</td>\n",
              "      <td>326659.000000</td>\n",
              "      <td>25028.000000</td>\n",
              "      <td>667.000000</td>\n",
              "      <td>9.000000</td>\n",
              "    </tr>\n",
              "    <tr>\n",
              "      <th>50%</th>\n",
              "      <td>36.0</td>\n",
              "      <td>404207.000000</td>\n",
              "      <td>31979.000000</td>\n",
              "      <td>1006.000000</td>\n",
              "      <td>20.000000</td>\n",
              "    </tr>\n",
              "    <tr>\n",
              "      <th>75%</th>\n",
              "      <td>36.0</td>\n",
              "      <td>449658.000000</td>\n",
              "      <td>32639.000000</td>\n",
              "      <td>2715.000000</td>\n",
              "      <td>97.000000</td>\n",
              "    </tr>\n",
              "    <tr>\n",
              "      <th>max</th>\n",
              "      <td>36.0</td>\n",
              "      <td>589605.000000</td>\n",
              "      <td>33696.000000</td>\n",
              "      <td>12274.000000</td>\n",
              "      <td>1036.000000</td>\n",
              "    </tr>\n",
              "  </tbody>\n",
              "</table>\n",
              "</div>"
            ],
            "text/plain": [
              "        fips          cases        deaths   daily_cases  daily_deaths\n",
              "count  261.0     261.000000    261.000000    261.000000    261.000000\n",
              "mean    36.0  356702.360153  25844.260536   2247.521073    129.513410\n",
              "std      0.0  154562.473031  11282.469648   2619.908351    244.197581\n",
              "min     36.0       1.000000      0.000000      0.000000      0.000000\n",
              "25%     36.0  326659.000000  25028.000000    667.000000      9.000000\n",
              "50%     36.0  404207.000000  31979.000000   1006.000000     20.000000\n",
              "75%     36.0  449658.000000  32639.000000   2715.000000     97.000000\n",
              "max     36.0  589605.000000  33696.000000  12274.000000   1036.000000"
            ]
          },
          "metadata": {
            "tags": []
          },
          "execution_count": 6
        }
      ]
    },
    {
      "cell_type": "code",
      "metadata": {
        "id": "uLYbkHFCL7d2"
      },
      "source": [
        "#Create a week variable\n",
        "df['date'] = pd.to_datetime(df['date'])\n",
        "df['week_of_year'] = df.date.dt.strftime('%U').astype('int32')"
      ],
      "execution_count": 7,
      "outputs": []
    },
    {
      "cell_type": "code",
      "metadata": {
        "id": "JQl3tGpBdAXU",
        "colab": {
          "base_uri": "https://localhost:8080/",
          "height": 351
        },
        "outputId": "3ef458bc-b5ae-440a-94f4-46859cd0eda4"
      },
      "source": [
        "#Collapse the data into counts per week\n",
        "cases = df.groupby(['state', 'week_of_year'])['daily_cases','daily_deaths'].sum()\n",
        "cases = pd.DataFrame(data=cases)\n",
        "cases = cases.rename(columns={'daily_cases': 'weekly_cases', 'daily_deaths': 'weekly_deaths'})\n",
        "cases = cases.reset_index(level=['state', 'week_of_year'])\n",
        "cases = cases.drop(axis=0, index=0)\n",
        "cases.loc[cases.state=='Arizona'].describe()"
      ],
      "execution_count": 8,
      "outputs": [
        {
          "output_type": "stream",
          "text": [
            "/usr/local/lib/python3.6/dist-packages/ipykernel_launcher.py:2: FutureWarning: Indexing with multiple keys (implicitly converted to a tuple of keys) will be deprecated, use a list instead.\n",
            "  \n"
          ],
          "name": "stderr"
        },
        {
          "output_type": "execute_result",
          "data": {
            "text/html": [
              "<div>\n",
              "<style scoped>\n",
              "    .dataframe tbody tr th:only-of-type {\n",
              "        vertical-align: middle;\n",
              "    }\n",
              "\n",
              "    .dataframe tbody tr th {\n",
              "        vertical-align: top;\n",
              "    }\n",
              "\n",
              "    .dataframe thead th {\n",
              "        text-align: right;\n",
              "    }\n",
              "</style>\n",
              "<table border=\"1\" class=\"dataframe\">\n",
              "  <thead>\n",
              "    <tr style=\"text-align: right;\">\n",
              "      <th></th>\n",
              "      <th>week_of_year</th>\n",
              "      <th>weekly_cases</th>\n",
              "      <th>weekly_deaths</th>\n",
              "    </tr>\n",
              "  </thead>\n",
              "  <tbody>\n",
              "    <tr>\n",
              "      <th>count</th>\n",
              "      <td>43.000000</td>\n",
              "      <td>43.000000</td>\n",
              "      <td>43.000000</td>\n",
              "    </tr>\n",
              "    <tr>\n",
              "      <th>mean</th>\n",
              "      <td>25.000000</td>\n",
              "      <td>6805.139535</td>\n",
              "      <td>149.186047</td>\n",
              "    </tr>\n",
              "    <tr>\n",
              "      <th>std</th>\n",
              "      <td>12.556539</td>\n",
              "      <td>7449.722595</td>\n",
              "      <td>145.743783</td>\n",
              "    </tr>\n",
              "    <tr>\n",
              "      <th>min</th>\n",
              "      <td>4.000000</td>\n",
              "      <td>0.000000</td>\n",
              "      <td>0.000000</td>\n",
              "    </tr>\n",
              "    <tr>\n",
              "      <th>25%</th>\n",
              "      <td>14.500000</td>\n",
              "      <td>1350.000000</td>\n",
              "      <td>50.000000</td>\n",
              "    </tr>\n",
              "    <tr>\n",
              "      <th>50%</th>\n",
              "      <td>25.000000</td>\n",
              "      <td>3577.000000</td>\n",
              "      <td>120.000000</td>\n",
              "    </tr>\n",
              "    <tr>\n",
              "      <th>75%</th>\n",
              "      <td>35.500000</td>\n",
              "      <td>9231.500000</td>\n",
              "      <td>189.000000</td>\n",
              "    </tr>\n",
              "    <tr>\n",
              "      <th>max</th>\n",
              "      <td>46.000000</td>\n",
              "      <td>25375.000000</td>\n",
              "      <td>575.000000</td>\n",
              "    </tr>\n",
              "  </tbody>\n",
              "</table>\n",
              "</div>"
            ],
            "text/plain": [
              "       week_of_year  weekly_cases  weekly_deaths\n",
              "count     43.000000     43.000000      43.000000\n",
              "mean      25.000000   6805.139535     149.186047\n",
              "std       12.556539   7449.722595     145.743783\n",
              "min        4.000000      0.000000       0.000000\n",
              "25%       14.500000   1350.000000      50.000000\n",
              "50%       25.000000   3577.000000     120.000000\n",
              "75%       35.500000   9231.500000     189.000000\n",
              "max       46.000000  25375.000000     575.000000"
            ]
          },
          "metadata": {
            "tags": []
          },
          "execution_count": 8
        }
      ]
    },
    {
      "cell_type": "code",
      "metadata": {
        "id": "ebS2dYrD6VpC",
        "colab": {
          "base_uri": "https://localhost:8080/",
          "height": 204
        },
        "outputId": "1fd388b4-aaeb-440e-83b7-577804331a0d"
      },
      "source": [
        "#Import mask mandate data\n",
        "mask = pd.read_csv('https://raw.githubusercontent.com/tanner-k/DD-COVID19/master/Mask_Mandate_Data.csv')\n",
        "mask.head()"
      ],
      "execution_count": 9,
      "outputs": [
        {
          "output_type": "execute_result",
          "data": {
            "text/html": [
              "<div>\n",
              "<style scoped>\n",
              "    .dataframe tbody tr th:only-of-type {\n",
              "        vertical-align: middle;\n",
              "    }\n",
              "\n",
              "    .dataframe tbody tr th {\n",
              "        vertical-align: top;\n",
              "    }\n",
              "\n",
              "    .dataframe thead th {\n",
              "        text-align: right;\n",
              "    }\n",
              "</style>\n",
              "<table border=\"1\" class=\"dataframe\">\n",
              "  <thead>\n",
              "    <tr style=\"text-align: right;\">\n",
              "      <th></th>\n",
              "      <th>State</th>\n",
              "      <th>Mask Mandate</th>\n",
              "      <th>Week Number</th>\n",
              "    </tr>\n",
              "  </thead>\n",
              "  <tbody>\n",
              "    <tr>\n",
              "      <th>0</th>\n",
              "      <td>Alabama</td>\n",
              "      <td>0</td>\n",
              "      <td>1</td>\n",
              "    </tr>\n",
              "    <tr>\n",
              "      <th>1</th>\n",
              "      <td>Alabama</td>\n",
              "      <td>0</td>\n",
              "      <td>2</td>\n",
              "    </tr>\n",
              "    <tr>\n",
              "      <th>2</th>\n",
              "      <td>Alabama</td>\n",
              "      <td>0</td>\n",
              "      <td>3</td>\n",
              "    </tr>\n",
              "    <tr>\n",
              "      <th>3</th>\n",
              "      <td>Alabama</td>\n",
              "      <td>0</td>\n",
              "      <td>4</td>\n",
              "    </tr>\n",
              "    <tr>\n",
              "      <th>4</th>\n",
              "      <td>Alabama</td>\n",
              "      <td>0</td>\n",
              "      <td>5</td>\n",
              "    </tr>\n",
              "  </tbody>\n",
              "</table>\n",
              "</div>"
            ],
            "text/plain": [
              "     State  Mask Mandate  Week Number\n",
              "0  Alabama             0            1\n",
              "1  Alabama             0            2\n",
              "2  Alabama             0            3\n",
              "3  Alabama             0            4\n",
              "4  Alabama             0            5"
            ]
          },
          "metadata": {
            "tags": []
          },
          "execution_count": 9
        }
      ]
    },
    {
      "cell_type": "code",
      "metadata": {
        "id": "4lpBH-koSPFF",
        "colab": {
          "base_uri": "https://localhost:8080/",
          "height": 419
        },
        "outputId": "db7b0562-1878-4261-daad-d34727d5337a"
      },
      "source": [
        "#Make the mask data have the same columns as the case data\n",
        "mask = mask.rename(columns={'State': 'state', 'Week Number': 'week_of_year', 'Mask Mandate': 'mask_mandate'})\n",
        "mask['weeks'] = mask.week_of_year\n",
        "mask['State'] = mask.state\n",
        "mask"
      ],
      "execution_count": 10,
      "outputs": [
        {
          "output_type": "execute_result",
          "data": {
            "text/html": [
              "<div>\n",
              "<style scoped>\n",
              "    .dataframe tbody tr th:only-of-type {\n",
              "        vertical-align: middle;\n",
              "    }\n",
              "\n",
              "    .dataframe tbody tr th {\n",
              "        vertical-align: top;\n",
              "    }\n",
              "\n",
              "    .dataframe thead th {\n",
              "        text-align: right;\n",
              "    }\n",
              "</style>\n",
              "<table border=\"1\" class=\"dataframe\">\n",
              "  <thead>\n",
              "    <tr style=\"text-align: right;\">\n",
              "      <th></th>\n",
              "      <th>state</th>\n",
              "      <th>mask_mandate</th>\n",
              "      <th>week_of_year</th>\n",
              "      <th>weeks</th>\n",
              "      <th>State</th>\n",
              "    </tr>\n",
              "  </thead>\n",
              "  <tbody>\n",
              "    <tr>\n",
              "      <th>0</th>\n",
              "      <td>Alabama</td>\n",
              "      <td>0</td>\n",
              "      <td>1</td>\n",
              "      <td>1</td>\n",
              "      <td>Alabama</td>\n",
              "    </tr>\n",
              "    <tr>\n",
              "      <th>1</th>\n",
              "      <td>Alabama</td>\n",
              "      <td>0</td>\n",
              "      <td>2</td>\n",
              "      <td>2</td>\n",
              "      <td>Alabama</td>\n",
              "    </tr>\n",
              "    <tr>\n",
              "      <th>2</th>\n",
              "      <td>Alabama</td>\n",
              "      <td>0</td>\n",
              "      <td>3</td>\n",
              "      <td>3</td>\n",
              "      <td>Alabama</td>\n",
              "    </tr>\n",
              "    <tr>\n",
              "      <th>3</th>\n",
              "      <td>Alabama</td>\n",
              "      <td>0</td>\n",
              "      <td>4</td>\n",
              "      <td>4</td>\n",
              "      <td>Alabama</td>\n",
              "    </tr>\n",
              "    <tr>\n",
              "      <th>4</th>\n",
              "      <td>Alabama</td>\n",
              "      <td>0</td>\n",
              "      <td>5</td>\n",
              "      <td>5</td>\n",
              "      <td>Alabama</td>\n",
              "    </tr>\n",
              "    <tr>\n",
              "      <th>...</th>\n",
              "      <td>...</td>\n",
              "      <td>...</td>\n",
              "      <td>...</td>\n",
              "      <td>...</td>\n",
              "      <td>...</td>\n",
              "    </tr>\n",
              "    <tr>\n",
              "      <th>2543</th>\n",
              "      <td>Wyoming</td>\n",
              "      <td>0</td>\n",
              "      <td>48</td>\n",
              "      <td>48</td>\n",
              "      <td>Wyoming</td>\n",
              "    </tr>\n",
              "    <tr>\n",
              "      <th>2544</th>\n",
              "      <td>Wyoming</td>\n",
              "      <td>0</td>\n",
              "      <td>49</td>\n",
              "      <td>49</td>\n",
              "      <td>Wyoming</td>\n",
              "    </tr>\n",
              "    <tr>\n",
              "      <th>2545</th>\n",
              "      <td>Wyoming</td>\n",
              "      <td>0</td>\n",
              "      <td>50</td>\n",
              "      <td>50</td>\n",
              "      <td>Wyoming</td>\n",
              "    </tr>\n",
              "    <tr>\n",
              "      <th>2546</th>\n",
              "      <td>Wyoming</td>\n",
              "      <td>0</td>\n",
              "      <td>51</td>\n",
              "      <td>51</td>\n",
              "      <td>Wyoming</td>\n",
              "    </tr>\n",
              "    <tr>\n",
              "      <th>2547</th>\n",
              "      <td>Wyoming</td>\n",
              "      <td>0</td>\n",
              "      <td>52</td>\n",
              "      <td>52</td>\n",
              "      <td>Wyoming</td>\n",
              "    </tr>\n",
              "  </tbody>\n",
              "</table>\n",
              "<p>2548 rows × 5 columns</p>\n",
              "</div>"
            ],
            "text/plain": [
              "        state  mask_mandate  week_of_year  weeks    State\n",
              "0     Alabama             0             1      1  Alabama\n",
              "1     Alabama             0             2      2  Alabama\n",
              "2     Alabama             0             3      3  Alabama\n",
              "3     Alabama             0             4      4  Alabama\n",
              "4     Alabama             0             5      5  Alabama\n",
              "...       ...           ...           ...    ...      ...\n",
              "2543  Wyoming             0            48     48  Wyoming\n",
              "2544  Wyoming             0            49     49  Wyoming\n",
              "2545  Wyoming             0            50     50  Wyoming\n",
              "2546  Wyoming             0            51     51  Wyoming\n",
              "2547  Wyoming             0            52     52  Wyoming\n",
              "\n",
              "[2548 rows x 5 columns]"
            ]
          },
          "metadata": {
            "tags": []
          },
          "execution_count": 10
        }
      ]
    },
    {
      "cell_type": "code",
      "metadata": {
        "id": "ggQBvBYfu7wy"
      },
      "source": [
        "mask = mask.set_index(['state', 'week_of_year'])\n",
        "cases = cases.set_index(['state', 'week_of_year'])"
      ],
      "execution_count": 11,
      "outputs": []
    },
    {
      "cell_type": "code",
      "metadata": {
        "id": "Ju-ZcX9VypkX",
        "colab": {
          "base_uri": "https://localhost:8080/",
          "height": 450
        },
        "outputId": "3bae0a85-90e1-4086-b897-94a090e04e42"
      },
      "source": [
        "#Combine the mask mandate data with the cases data\n",
        "cases = cases.combine_first(mask)\n",
        "cases"
      ],
      "execution_count": 12,
      "outputs": [
        {
          "output_type": "execute_result",
          "data": {
            "text/html": [
              "<div>\n",
              "<style scoped>\n",
              "    .dataframe tbody tr th:only-of-type {\n",
              "        vertical-align: middle;\n",
              "    }\n",
              "\n",
              "    .dataframe tbody tr th {\n",
              "        vertical-align: top;\n",
              "    }\n",
              "\n",
              "    .dataframe thead th {\n",
              "        text-align: right;\n",
              "    }\n",
              "</style>\n",
              "<table border=\"1\" class=\"dataframe\">\n",
              "  <thead>\n",
              "    <tr style=\"text-align: right;\">\n",
              "      <th></th>\n",
              "      <th></th>\n",
              "      <th>State</th>\n",
              "      <th>mask_mandate</th>\n",
              "      <th>weekly_cases</th>\n",
              "      <th>weekly_deaths</th>\n",
              "      <th>weeks</th>\n",
              "    </tr>\n",
              "    <tr>\n",
              "      <th>state</th>\n",
              "      <th>week_of_year</th>\n",
              "      <th></th>\n",
              "      <th></th>\n",
              "      <th></th>\n",
              "      <th></th>\n",
              "      <th></th>\n",
              "    </tr>\n",
              "  </thead>\n",
              "  <tbody>\n",
              "    <tr>\n",
              "      <th rowspan=\"5\" valign=\"top\">Alabama</th>\n",
              "      <th>1</th>\n",
              "      <td>Alabama</td>\n",
              "      <td>0.0</td>\n",
              "      <td>NaN</td>\n",
              "      <td>NaN</td>\n",
              "      <td>1.0</td>\n",
              "    </tr>\n",
              "    <tr>\n",
              "      <th>2</th>\n",
              "      <td>Alabama</td>\n",
              "      <td>0.0</td>\n",
              "      <td>NaN</td>\n",
              "      <td>NaN</td>\n",
              "      <td>2.0</td>\n",
              "    </tr>\n",
              "    <tr>\n",
              "      <th>3</th>\n",
              "      <td>Alabama</td>\n",
              "      <td>0.0</td>\n",
              "      <td>NaN</td>\n",
              "      <td>NaN</td>\n",
              "      <td>3.0</td>\n",
              "    </tr>\n",
              "    <tr>\n",
              "      <th>4</th>\n",
              "      <td>Alabama</td>\n",
              "      <td>0.0</td>\n",
              "      <td>NaN</td>\n",
              "      <td>NaN</td>\n",
              "      <td>4.0</td>\n",
              "    </tr>\n",
              "    <tr>\n",
              "      <th>5</th>\n",
              "      <td>Alabama</td>\n",
              "      <td>0.0</td>\n",
              "      <td>NaN</td>\n",
              "      <td>NaN</td>\n",
              "      <td>5.0</td>\n",
              "    </tr>\n",
              "    <tr>\n",
              "      <th>...</th>\n",
              "      <th>...</th>\n",
              "      <td>...</td>\n",
              "      <td>...</td>\n",
              "      <td>...</td>\n",
              "      <td>...</td>\n",
              "      <td>...</td>\n",
              "    </tr>\n",
              "    <tr>\n",
              "      <th rowspan=\"5\" valign=\"top\">Wyoming</th>\n",
              "      <th>48</th>\n",
              "      <td>Wyoming</td>\n",
              "      <td>0.0</td>\n",
              "      <td>NaN</td>\n",
              "      <td>NaN</td>\n",
              "      <td>48.0</td>\n",
              "    </tr>\n",
              "    <tr>\n",
              "      <th>49</th>\n",
              "      <td>Wyoming</td>\n",
              "      <td>0.0</td>\n",
              "      <td>NaN</td>\n",
              "      <td>NaN</td>\n",
              "      <td>49.0</td>\n",
              "    </tr>\n",
              "    <tr>\n",
              "      <th>50</th>\n",
              "      <td>Wyoming</td>\n",
              "      <td>0.0</td>\n",
              "      <td>NaN</td>\n",
              "      <td>NaN</td>\n",
              "      <td>50.0</td>\n",
              "    </tr>\n",
              "    <tr>\n",
              "      <th>51</th>\n",
              "      <td>Wyoming</td>\n",
              "      <td>0.0</td>\n",
              "      <td>NaN</td>\n",
              "      <td>NaN</td>\n",
              "      <td>51.0</td>\n",
              "    </tr>\n",
              "    <tr>\n",
              "      <th>52</th>\n",
              "      <td>Wyoming</td>\n",
              "      <td>0.0</td>\n",
              "      <td>NaN</td>\n",
              "      <td>NaN</td>\n",
              "      <td>52.0</td>\n",
              "    </tr>\n",
              "  </tbody>\n",
              "</table>\n",
              "<p>2548 rows × 5 columns</p>\n",
              "</div>"
            ],
            "text/plain": [
              "                        State  mask_mandate  weekly_cases  weekly_deaths  weeks\n",
              "state   week_of_year                                                           \n",
              "Alabama 1             Alabama           0.0           NaN            NaN    1.0\n",
              "        2             Alabama           0.0           NaN            NaN    2.0\n",
              "        3             Alabama           0.0           NaN            NaN    3.0\n",
              "        4             Alabama           0.0           NaN            NaN    4.0\n",
              "        5             Alabama           0.0           NaN            NaN    5.0\n",
              "...                       ...           ...           ...            ...    ...\n",
              "Wyoming 48            Wyoming           0.0           NaN            NaN   48.0\n",
              "        49            Wyoming           0.0           NaN            NaN   49.0\n",
              "        50            Wyoming           0.0           NaN            NaN   50.0\n",
              "        51            Wyoming           0.0           NaN            NaN   51.0\n",
              "        52            Wyoming           0.0           NaN            NaN   52.0\n",
              "\n",
              "[2548 rows x 5 columns]"
            ]
          },
          "metadata": {
            "tags": []
          },
          "execution_count": 12
        }
      ]
    },
    {
      "cell_type": "code",
      "metadata": {
        "id": "rkAc_yY71HH-",
        "colab": {
          "base_uri": "https://localhost:8080/",
          "height": 297
        },
        "outputId": "81af7e0d-e290-4432-ebc6-6e8261644055"
      },
      "source": [
        "cases['mandate_week'] = 0\n",
        "cases.loc[cases.mask_mandate==1, 'mandate_week'] = cases.loc[cases.mask_mandate==1, 'weeks']\n",
        "cases.describe()"
      ],
      "execution_count": 13,
      "outputs": [
        {
          "output_type": "execute_result",
          "data": {
            "text/html": [
              "<div>\n",
              "<style scoped>\n",
              "    .dataframe tbody tr th:only-of-type {\n",
              "        vertical-align: middle;\n",
              "    }\n",
              "\n",
              "    .dataframe tbody tr th {\n",
              "        vertical-align: top;\n",
              "    }\n",
              "\n",
              "    .dataframe thead th {\n",
              "        text-align: right;\n",
              "    }\n",
              "</style>\n",
              "<table border=\"1\" class=\"dataframe\">\n",
              "  <thead>\n",
              "    <tr style=\"text-align: right;\">\n",
              "      <th></th>\n",
              "      <th>mask_mandate</th>\n",
              "      <th>weekly_cases</th>\n",
              "      <th>weekly_deaths</th>\n",
              "      <th>weeks</th>\n",
              "      <th>mandate_week</th>\n",
              "    </tr>\n",
              "  </thead>\n",
              "  <tbody>\n",
              "    <tr>\n",
              "      <th>count</th>\n",
              "      <td>2548.000000</td>\n",
              "      <td>1883.000000</td>\n",
              "      <td>1883.000000</td>\n",
              "      <td>2548.000000</td>\n",
              "      <td>2548.000000</td>\n",
              "    </tr>\n",
              "    <tr>\n",
              "      <th>mean</th>\n",
              "      <td>0.013344</td>\n",
              "      <td>6292.813064</td>\n",
              "      <td>134.490175</td>\n",
              "      <td>26.500000</td>\n",
              "      <td>0.350078</td>\n",
              "    </tr>\n",
              "    <tr>\n",
              "      <th>std</th>\n",
              "      <td>0.114765</td>\n",
              "      <td>10502.885483</td>\n",
              "      <td>328.524082</td>\n",
              "      <td>15.011277</td>\n",
              "      <td>3.104117</td>\n",
              "    </tr>\n",
              "    <tr>\n",
              "      <th>min</th>\n",
              "      <td>0.000000</td>\n",
              "      <td>0.000000</td>\n",
              "      <td>0.000000</td>\n",
              "      <td>1.000000</td>\n",
              "      <td>0.000000</td>\n",
              "    </tr>\n",
              "    <tr>\n",
              "      <th>25%</th>\n",
              "      <td>0.000000</td>\n",
              "      <td>674.000000</td>\n",
              "      <td>12.000000</td>\n",
              "      <td>13.750000</td>\n",
              "      <td>0.000000</td>\n",
              "    </tr>\n",
              "    <tr>\n",
              "      <th>50%</th>\n",
              "      <td>0.000000</td>\n",
              "      <td>2878.000000</td>\n",
              "      <td>52.000000</td>\n",
              "      <td>26.500000</td>\n",
              "      <td>0.000000</td>\n",
              "    </tr>\n",
              "    <tr>\n",
              "      <th>75%</th>\n",
              "      <td>0.000000</td>\n",
              "      <td>6880.000000</td>\n",
              "      <td>130.500000</td>\n",
              "      <td>39.250000</td>\n",
              "      <td>0.000000</td>\n",
              "    </tr>\n",
              "    <tr>\n",
              "      <th>max</th>\n",
              "      <td>1.000000</td>\n",
              "      <td>85025.000000</td>\n",
              "      <td>6624.000000</td>\n",
              "      <td>52.000000</td>\n",
              "      <td>46.000000</td>\n",
              "    </tr>\n",
              "  </tbody>\n",
              "</table>\n",
              "</div>"
            ],
            "text/plain": [
              "       mask_mandate  weekly_cases  weekly_deaths        weeks  mandate_week\n",
              "count   2548.000000   1883.000000    1883.000000  2548.000000   2548.000000\n",
              "mean       0.013344   6292.813064     134.490175    26.500000      0.350078\n",
              "std        0.114765  10502.885483     328.524082    15.011277      3.104117\n",
              "min        0.000000      0.000000       0.000000     1.000000      0.000000\n",
              "25%        0.000000    674.000000      12.000000    13.750000      0.000000\n",
              "50%        0.000000   2878.000000      52.000000    26.500000      0.000000\n",
              "75%        0.000000   6880.000000     130.500000    39.250000      0.000000\n",
              "max        1.000000  85025.000000    6624.000000    52.000000     46.000000"
            ]
          },
          "metadata": {
            "tags": []
          },
          "execution_count": 13
        }
      ]
    },
    {
      "cell_type": "code",
      "metadata": {
        "id": "Ih0KU5C7_BDP"
      },
      "source": [
        "for states, week in cases.groupby(level=0):\n",
        "  cases.loc[cases.State==states, 'mandate_week'] = week.mandate_week.max()\n",
        "\n",
        "cases = cases.dropna()"
      ],
      "execution_count": 14,
      "outputs": []
    },
    {
      "cell_type": "code",
      "metadata": {
        "id": "Cz5ED3srxHgw",
        "colab": {
          "base_uri": "https://localhost:8080/"
        },
        "outputId": "6f2eeb75-ef8c-4f70-9c57-637910cd44a2"
      },
      "source": [
        "cases['week_diff'] = cases.loc[cases.mandate_week!=0, 'weeks'].subtract(cases.mandate_week)\n",
        "cases.week_diff.fillna(0, inplace=True)\n"
      ],
      "execution_count": 15,
      "outputs": [
        {
          "output_type": "stream",
          "text": [
            "/usr/local/lib/python3.6/dist-packages/ipykernel_launcher.py:1: SettingWithCopyWarning: \n",
            "A value is trying to be set on a copy of a slice from a DataFrame.\n",
            "Try using .loc[row_indexer,col_indexer] = value instead\n",
            "\n",
            "See the caveats in the documentation: https://pandas.pydata.org/pandas-docs/stable/user_guide/indexing.html#returning-a-view-versus-a-copy\n",
            "  \"\"\"Entry point for launching an IPython kernel.\n",
            "/usr/local/lib/python3.6/dist-packages/pandas/core/series.py:4535: SettingWithCopyWarning: \n",
            "A value is trying to be set on a copy of a slice from a DataFrame\n",
            "\n",
            "See the caveats in the documentation: https://pandas.pydata.org/pandas-docs/stable/user_guide/indexing.html#returning-a-view-versus-a-copy\n",
            "  downcast=downcast,\n"
          ],
          "name": "stderr"
        }
      ]
    },
    {
      "cell_type": "code",
      "metadata": {
        "id": "He503Rp-Bt6z",
        "colab": {
          "base_uri": "https://localhost:8080/"
        },
        "outputId": "357f5353-aef6-45bd-ef18-21bef4e2c9f3"
      },
      "source": [
        "#Import linearmodels library to do the two-way fixed effects regression\n",
        "while True:\n",
        "  try:\n",
        "    from linearmodels import PanelOLS\n",
        "    break\n",
        "  except ModuleNotFoundError:\n",
        "    !pip install linearmodels"
      ],
      "execution_count": 16,
      "outputs": [
        {
          "output_type": "stream",
          "text": [
            "/usr/local/lib/python3.6/dist-packages/statsmodels/tools/_testing.py:19: FutureWarning: pandas.util.testing is deprecated. Use the functions in the public API at pandas.testing instead.\n",
            "  import pandas.util.testing as tm\n"
          ],
          "name": "stderr"
        }
      ]
    },
    {
      "cell_type": "code",
      "metadata": {
        "id": "eJfnFOTQHE1D"
      },
      "source": [
        "#Choose the outcome variable(y) and the features(x) for the model\n",
        "y = cases.weekly_deaths\n",
        "x = cases.week_diff"
      ],
      "execution_count": 21,
      "outputs": []
    },
    {
      "cell_type": "code",
      "metadata": {
        "id": "nEKVggS4HMel",
        "outputId": "adfa56d5-6421-4958-b4b1-73b13ef37983",
        "colab": {
          "base_uri": "https://localhost:8080/"
        }
      },
      "source": [
        "#Create the model and fit the data to it\n",
        "mod = PanelOLS(y, x, entity_effects=True, time_effects=True, drop_absorbed=True)\n",
        "res = mod.fit(cov_type='clustered', cluster_entity=True)\n",
        "print(res)"
      ],
      "execution_count": 22,
      "outputs": [
        {
          "output_type": "stream",
          "text": [
            "/usr/local/lib/python3.6/dist-packages/linearmodels/panel/data.py:98: FutureWarning: is_categorical is deprecated and will be removed in a future version.  Use is_categorical_dtype instead\n",
            "  if is_categorical(s):\n"
          ],
          "name": "stderr"
        },
        {
          "output_type": "stream",
          "text": [
            "                          PanelOLS Estimation Summary                           \n",
            "================================================================================\n",
            "Dep. Variable:          weekly_deaths   R-squared:                        0.0115\n",
            "Estimator:                   PanelOLS   R-squared (Between):             -0.0834\n",
            "No. Observations:                1883   R-squared (Within):              -0.0199\n",
            "Date:                Sun, Nov 22 2020   R-squared (Overall):             -0.0429\n",
            "Time:                        04:50:40   Log-likelihood                -1.321e+04\n",
            "Cov. Estimator:             Clustered                                           \n",
            "                                        F-statistic:                      20.777\n",
            "Entities:                          49   P-value                           0.0000\n",
            "Avg Obs:                       38.429   Distribution:                  F(1,1790)\n",
            "Min Obs:                       36.000                                           \n",
            "Max Obs:                       44.000   F-statistic (robust):             4.1287\n",
            "                                        P-value                           0.0423\n",
            "Time periods:                      46   Distribution:                  F(1,1790)\n",
            "Avg Obs:                       40.935                                           \n",
            "Min Obs:                       0.0000                                           \n",
            "Max Obs:                       49.000                                           \n",
            "                                                                                \n",
            "                             Parameter Estimates                              \n",
            "==============================================================================\n",
            "            Parameter  Std. Err.     T-stat    P-value    Lower CI    Upper CI\n",
            "------------------------------------------------------------------------------\n",
            "week_diff     -5.7379     2.8239    -2.0319     0.0423     -11.276     -0.1995\n",
            "==============================================================================\n",
            "\n",
            "F-test for Poolability: 9.4321\n",
            "P-value: 0.0000\n",
            "Distribution: F(91,1790)\n",
            "\n",
            "Included effects: Entity, Time\n"
          ],
          "name": "stdout"
        }
      ]
    },
    {
      "cell_type": "code",
      "metadata": {
        "id": "qGwyYontgpME",
        "outputId": "48ea0bea-8791-482b-c410-38f36f75924e",
        "colab": {
          "base_uri": "https://localhost:8080/",
          "height": 623
        }
      },
      "source": [
        "#Create a graph that shows the variation of cases \n",
        "import seaborn as sns\n",
        "import matplotlib.pyplot as plt\n",
        "\n",
        "plt.figure(figsize=(10,10))\n",
        "sns.lineplot(x=cases.loc[cases.mandate_week!=0,'week_diff'], y=y, data=cases, )"
      ],
      "execution_count": 19,
      "outputs": [
        {
          "output_type": "execute_result",
          "data": {
            "text/plain": [
              "<matplotlib.axes._subplots.AxesSubplot at 0x7f3f7b0c3320>"
            ]
          },
          "metadata": {
            "tags": []
          },
          "execution_count": 19
        },
        {
          "output_type": "display_data",
          "data": {
            "image/png": "[encoded data removed]",
            "text/plain": [
              "<Figure size 720x720 with 1 Axes>"
            ]
          },
          "metadata": {
            "tags": [],
            "needs_background": "light"
          }
        }
      ]
    },
    {
      "cell_type": "code",
      "metadata": {
        "id": "3qsDAkrjiqVx",
        "outputId": "4dfea3c4-6296-4550-b8df-09a8ca3d5c7d",
        "colab": {
          "base_uri": "https://localhost:8080/",
          "height": 297
        }
      },
      "source": [
        "cases = cases[['weekly_cases', 'weekly_deaths', 'mask_mandate', 'week_diff']]\n",
        "\n",
        "cases.describe()"
      ],
      "execution_count": 20,
      "outputs": [
        {
          "output_type": "execute_result",
          "data": {
            "text/html": [
              "<div>\n",
              "<style scoped>\n",
              "    .dataframe tbody tr th:only-of-type {\n",
              "        vertical-align: middle;\n",
              "    }\n",
              "\n",
              "    .dataframe tbody tr th {\n",
              "        vertical-align: top;\n",
              "    }\n",
              "\n",
              "    .dataframe thead th {\n",
              "        text-align: right;\n",
              "    }\n",
              "</style>\n",
              "<table border=\"1\" class=\"dataframe\">\n",
              "  <thead>\n",
              "    <tr style=\"text-align: right;\">\n",
              "      <th></th>\n",
              "      <th>weekly_cases</th>\n",
              "      <th>weekly_deaths</th>\n",
              "      <th>mask_mandate</th>\n",
              "      <th>week_diff</th>\n",
              "    </tr>\n",
              "  </thead>\n",
              "  <tbody>\n",
              "    <tr>\n",
              "      <th>count</th>\n",
              "      <td>1883.000000</td>\n",
              "      <td>1883.000000</td>\n",
              "      <td>1883.000000</td>\n",
              "      <td>1883.000000</td>\n",
              "    </tr>\n",
              "    <tr>\n",
              "      <th>mean</th>\n",
              "      <td>6292.813064</td>\n",
              "      <td>134.490175</td>\n",
              "      <td>0.018056</td>\n",
              "      <td>0.661179</td>\n",
              "    </tr>\n",
              "    <tr>\n",
              "      <th>std</th>\n",
              "      <td>10502.885483</td>\n",
              "      <td>328.524082</td>\n",
              "      <td>0.133190</td>\n",
              "      <td>10.806083</td>\n",
              "    </tr>\n",
              "    <tr>\n",
              "      <th>min</th>\n",
              "      <td>0.000000</td>\n",
              "      <td>0.000000</td>\n",
              "      <td>0.000000</td>\n",
              "      <td>-38.000000</td>\n",
              "    </tr>\n",
              "    <tr>\n",
              "      <th>25%</th>\n",
              "      <td>674.000000</td>\n",
              "      <td>12.000000</td>\n",
              "      <td>0.000000</td>\n",
              "      <td>-4.000000</td>\n",
              "    </tr>\n",
              "    <tr>\n",
              "      <th>50%</th>\n",
              "      <td>2878.000000</td>\n",
              "      <td>52.000000</td>\n",
              "      <td>0.000000</td>\n",
              "      <td>0.000000</td>\n",
              "    </tr>\n",
              "    <tr>\n",
              "      <th>75%</th>\n",
              "      <td>6880.000000</td>\n",
              "      <td>130.500000</td>\n",
              "      <td>0.000000</td>\n",
              "      <td>7.000000</td>\n",
              "    </tr>\n",
              "    <tr>\n",
              "      <th>max</th>\n",
              "      <td>85025.000000</td>\n",
              "      <td>6624.000000</td>\n",
              "      <td>1.000000</td>\n",
              "      <td>30.000000</td>\n",
              "    </tr>\n",
              "  </tbody>\n",
              "</table>\n",
              "</div>"
            ],
            "text/plain": [
              "       weekly_cases  weekly_deaths  mask_mandate    week_diff\n",
              "count   1883.000000    1883.000000   1883.000000  1883.000000\n",
              "mean    6292.813064     134.490175      0.018056     0.661179\n",
              "std    10502.885483     328.524082      0.133190    10.806083\n",
              "min        0.000000       0.000000      0.000000   -38.000000\n",
              "25%      674.000000      12.000000      0.000000    -4.000000\n",
              "50%     2878.000000      52.000000      0.000000     0.000000\n",
              "75%     6880.000000     130.500000      0.000000     7.000000\n",
              "max    85025.000000    6624.000000      1.000000    30.000000"
            ]
          },
          "metadata": {
            "tags": []
          },
          "execution_count": 20
        }
      ]
    },
    {
      "cell_type": "code",
      "metadata": {
        "id": "2Uyb6udmjYce",
        "outputId": "d1f2bc0b-bd47-4f3b-fac8-a0cd9e5fa9af",
        "colab": {
          "base_uri": "https://localhost:8080/"
        }
      },
      "source": [
        ""
      ],
      "execution_count": 25,
      "outputs": [
        {
          "output_type": "stream",
          "text": [
            "                       weekly_cases  weekly_deaths  mask_mandate  week_diff\n",
            "state    week_of_year                                                      \n",
            "Illinois 45                 85025.0          600.0           0.0       27.0\n"
          ],
          "name": "stdout"
        }
      ]
    },
    {
      "cell_type": "code",
      "metadata": {
        "id": "frpfyTQCTaC_"
      },
      "source": [
        ""
      ],
      "execution_count": null,
      "outputs": []
    }
  ]
}