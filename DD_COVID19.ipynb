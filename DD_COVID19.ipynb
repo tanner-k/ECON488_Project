{
  "nbformat": 4,
  "nbformat_minor": 0,
  "metadata": {
    "colab": {
      "name": "DD_COVID19.ipynb",
      "provenance": [],
      "collapsed_sections": [],
      "authorship_tag": "ABX9TyPHRzg6zfOSH3dxdd0n9gU8",
      "include_colab_link": true
    },
    "kernelspec": {
      "name": "python3",
      "display_name": "Python 3"
    }
  },
  "cells": [
    {
      "cell_type": "markdown",
      "metadata": {
        "id": "view-in-github",
        "colab_type": "text"
      },
      "source": [
        "<a href=\"https://colab.research.google.com/github/tanner-k/ECON488_Project/blob/main/DD_COVID19.ipynb\" target=\"_parent\"><img src=\"https://colab.research.google.com/assets/colab-badge.svg\" alt=\"Open In Colab\"/></a>"
      ]
    },
    {
      "cell_type": "code",
      "metadata": {
        "id": "T3L3WON-jRN6",
        "outputId": "26e3d2b7-98b3-4527-d873-523c4037dde5",
        "colab": {
          "base_uri": "https://localhost:8080/"
        }
      },
      "source": [
        "# Import the libraries needed to do the analysis for the project.\n",
        "import pandas as pd\n",
        "import numpy as np\n",
        "\n",
        "# Import linearmodels library to do the two-way fixed effects regression.\n",
        "while True:\n",
        "  try:\n",
        "    from linearmodels import PanelOLS\n",
        "    break\n",
        "  except ModuleNotFoundError:\n",
        "    !pip install linearmodels"
      ],
      "execution_count": 1,
      "outputs": [
        {
          "output_type": "stream",
          "text": [
            "/usr/local/lib/python3.6/dist-packages/statsmodels/tools/_testing.py:19: FutureWarning: pandas.util.testing is deprecated. Use the functions in the public API at pandas.testing instead.\n",
            "  import pandas.util.testing as tm\n"
          ],
          "name": "stderr"
        }
      ]
    },
    {
      "cell_type": "markdown",
      "metadata": {
        "id": "li74qDWmN_eS"
      },
      "source": [
        "# Prepare the Data\n",
        "The next several cells of code prepare the data for our Differences in Differences analysis. The data starts as a running total of COVID-19 cases and deaths. This data is also set up as state by day data, whereas we need it the data to be set up in state by week data. "
      ]
    },
    {
      "cell_type": "code",
      "metadata": {
        "id": "_YlBllcBrF9K"
      },
      "source": [
        "# Read in the data for the project.\n",
        "data = pd.read_csv('https://raw.githubusercontent.com/nytimes/covid-19-data/master/us-states.csv')"
      ],
      "execution_count": 2,
      "outputs": []
    },
    {
      "cell_type": "code",
      "metadata": {
        "id": "bZ4hPF5ntjYx"
      },
      "source": [
        "# Create a variable for the list of states we want to include in our analysis. \n",
        "included_states = ['Washington', 'Illinois', 'California', 'Arizona', 'Massachusetts',\n",
        "       'Wisconsin', 'Texas', 'Nebraska', 'Utah', 'Oregon', 'Florida',\n",
        "       'New York', 'Rhode Island', 'Georgia', 'New Hampshire',\n",
        "       'North Carolina', 'New Jersey', 'Colorado', 'Maryland', 'Nevada',\n",
        "       'Tennessee', 'Indiana', 'Kentucky', 'Minnesota',\n",
        "       'Oklahoma', 'Pennsylvania', 'South Carolina',\n",
        "       'District of Columbia', 'Kansas', 'Missouri', 'Vermont',\n",
        "       'Virginia', 'Connecticut', 'Iowa', 'Louisiana', 'Ohio', 'Michigan',\n",
        "       'South Dakota', 'Arkansas', 'Delaware', 'Mississippi',\n",
        "       'New Mexico', 'North Dakota', 'Wyoming', 'Maine',\n",
        "       'Alabama', 'Idaho', 'Montana', 'West Virginia']"
      ],
      "execution_count": 3,
      "outputs": []
    },
    {
      "cell_type": "code",
      "metadata": {
        "id": "wC4OBu4AqOcH"
      },
      "source": [
        "# Keep only the states we want to include in our analysis.\n",
        "data = data.loc[data.state.isin(included_states)]\n",
        "\n",
        "# Organize the data by state and by date.\n",
        "data = data.sort_values(by=['state', 'date'],ascending=[True, True])"
      ],
      "execution_count": 4,
      "outputs": []
    },
    {
      "cell_type": "code",
      "metadata": {
        "id": "yfhEv5ttrrau"
      },
      "source": [
        "# Create daily counts of cases and deaths.\n",
        "data['daily_cases'] = data.groupby(by='state')['cases'].diff().fillna(0)\n",
        "data['daily_deaths'] = data.groupby(by='state')['deaths'].diff().fillna(0)\n",
        "\n",
        "# Eliminate negative values from transitioning from state to state.\n",
        "data[data['daily_cases'] < 0] = 0\n",
        "data[data['daily_deaths'] < 0] = 0"
      ],
      "execution_count": 5,
      "outputs": []
    },
    {
      "cell_type": "code",
      "metadata": {
        "id": "uLYbkHFCL7d2"
      },
      "source": [
        "# Create a week variable.\n",
        "data['date'] = pd.to_datetime(data['date'])\n",
        "data['week_of_year'] = data.date.dt.strftime('%U').astype('int32')"
      ],
      "execution_count": 6,
      "outputs": []
    },
    {
      "cell_type": "code",
      "metadata": {
        "id": "JQl3tGpBdAXU",
        "colab": {
          "base_uri": "https://localhost:8080/"
        },
        "outputId": "4626e707-d056-42b2-d626-57d0e7f96749"
      },
      "source": [
        "# Collapse the data into counts per week.\n",
        "cases = data.groupby(['state', 'week_of_year'])['daily_cases','daily_deaths'].sum()\n",
        "cases = pd.DataFrame(data=cases)\n",
        "cases = cases.rename(columns={'daily_cases': 'weekly_cases', 'daily_deaths': 'weekly_deaths'})\n",
        "cases = cases.reset_index(level=['state', 'week_of_year'])\n",
        "cases = cases.drop(axis=0, index=0)"
      ],
      "execution_count": 7,
      "outputs": [
        {
          "output_type": "stream",
          "text": [
            "/usr/local/lib/python3.6/dist-packages/ipykernel_launcher.py:2: FutureWarning: Indexing with multiple keys (implicitly converted to a tuple of keys) will be deprecated, use a list instead.\n",
            "  \n"
          ],
          "name": "stderr"
        }
      ]
    },
    {
      "cell_type": "markdown",
      "metadata": {
        "id": "Q3peEkAtPp75"
      },
      "source": [
        "This is still part of the data preparation process, but we created a csv file of the week that the mask mandate went into effect for each state. This is a dummy variable that we have to put into the same Pandas DataFrame for our regression. "
      ]
    },
    {
      "cell_type": "code",
      "metadata": {
        "id": "ebS2dYrD6VpC"
      },
      "source": [
        "# Import mask mandate data.\n",
        "mask = pd.read_csv('https://raw.githubusercontent.com/tanner-k/DD-COVID19/master/Mask_Mandate_Data.csv')"
      ],
      "execution_count": 8,
      "outputs": []
    },
    {
      "cell_type": "code",
      "metadata": {
        "id": "4lpBH-koSPFF"
      },
      "source": [
        "# Make the mask data have the same columns as the case data.\n",
        "mask = mask.rename(columns={'State': 'state', 'Week Number': 'week_of_year', 'Mask Mandate': 'mask_mandate'})\n",
        "mask['weeks'] = mask.week_of_year\n",
        "mask['State'] = mask.state"
      ],
      "execution_count": 9,
      "outputs": []
    },
    {
      "cell_type": "code",
      "metadata": {
        "id": "ggQBvBYfu7wy"
      },
      "source": [
        "# Set the index for the mask and cases dataframes and then combine them.\n",
        "mask = mask.set_index(['state', 'week_of_year'])\n",
        "cases = cases.set_index(['state', 'week_of_year'])\n",
        "cases = cases.combine_first(mask)"
      ],
      "execution_count": 10,
      "outputs": []
    },
    {
      "cell_type": "markdown",
      "metadata": {
        "id": "i4IFg5AvQKDa"
      },
      "source": [
        "We need to make a variable for weeks where the mask mandate is in effect. This is the independent variable that will be used for the first regression. \n",
        "\n",
        "We also need to create a variable for the weeks before and after the mandate for our second regression. This variable will be used to create dummy variables that will be used in the regression. \n"
      ]
    },
    {
      "cell_type": "code",
      "metadata": {
        "id": "rkAc_yY71HH-"
      },
      "source": [
        "# Here we create a mandate week variable that will be used to help create both a variable for the weeks where the mandate \n",
        "# is in effect and a variable for the weeks before and after the mandate variable. \n",
        "cases['mandate_week'] = 0\n",
        "cases.loc[cases.mask_mandate==1, 'mandate_week'] = cases.loc[cases.mask_mandate==1, 'weeks']\n",
        "\n",
        "for states, week in cases.groupby(level=0):\n",
        "  cases.loc[cases.State==states, 'mandate_week'] = week.mandate_week.max()\n",
        "cases = cases.dropna()"
      ],
      "execution_count": 11,
      "outputs": []
    },
    {
      "cell_type": "code",
      "metadata": {
        "id": "JBDv_Xvm0DLE"
      },
      "source": [
        "# The mandate variable is for weeks where the mask mandate is in effect.\n",
        "cases['mandate'] = 0\n",
        "cases.loc[cases.weeks>=cases.mandate_week, 'mandate'] = 1\n",
        "cases.loc[cases.mandate_week==0, 'mandate'] = 0"
      ],
      "execution_count": 12,
      "outputs": []
    },
    {
      "cell_type": "code",
      "metadata": {
        "id": "Cz5ED3srxHgw"
      },
      "source": [
        "# The week_diff variable is the variable for the weeks before and after the mask mandate.\n",
        "cases['week_diff'] = cases.loc[cases.mandate_week!=0, 'weeks'].subtract(cases.mandate_week)"
      ],
      "execution_count": 13,
      "outputs": []
    },
    {
      "cell_type": "markdown",
      "metadata": {
        "id": "NQWH5DhlTjIK"
      },
      "source": [
        "We then use the week_diff variable to create a dummy variable for each week before and after the mask mandate has been in effect. "
      ]
    },
    {
      "cell_type": "code",
      "metadata": {
        "id": "Q7spxrCs23uU"
      },
      "source": [
        "# Make a dummy variable for each week before the mandate and after the mandate from the week_diff variable.\n",
        "dummy = pd.get_dummies(cases.week_diff.astype(str))\n",
        "dummy = dummy.drop(columns=['-1.0','nan'])"
      ],
      "execution_count": 14,
      "outputs": []
    },
    {
      "cell_type": "markdown",
      "metadata": {
        "id": "RKnvYvHuL1Et"
      },
      "source": [
        "# First Regression\n",
        "This regression is set up where the independent variable is for weeks where the mask mandate is in effect and the dependent variable is the sum of cases per week. \n"
      ]
    },
    {
      "cell_type": "code",
      "metadata": {
        "id": "eJfnFOTQHE1D"
      },
      "source": [
        "# Choose the dependent variable(y) and the independent variable(x) for the model.\n",
        "y = cases.weekly_cases\n",
        "x = cases['mandate']\n",
        "x = pd.DataFrame(x)"
      ],
      "execution_count": 15,
      "outputs": []
    },
    {
      "cell_type": "code",
      "metadata": {
        "id": "nEKVggS4HMel",
        "colab": {
          "base_uri": "https://localhost:8080/"
        },
        "outputId": "fbd90bc0-cdcb-414d-c32d-e6d6bb439e98"
      },
      "source": [
        "# Create the model and fit the data to it.\n",
        "\n",
        "# Inclued state and time fixed effects to control for variation. Entity effects are the state fixed effects. \n",
        "mod = PanelOLS(y, x, entity_effects=True, time_effects=True, drop_absorbed=False) \n",
        "\n",
        "# Cluster the standard errors so that the standard errors will be more accurate. \n",
        "res = mod.fit(cov_type='clustered', cluster_entity=True)\n",
        "print(res)"
      ],
      "execution_count": 16,
      "outputs": [
        {
          "output_type": "stream",
          "text": [
            "/usr/local/lib/python3.6/dist-packages/linearmodels/panel/data.py:98: FutureWarning: is_categorical is deprecated and will be removed in a future version.  Use is_categorical_dtype instead\n",
            "  if is_categorical(s):\n"
          ],
          "name": "stderr"
        },
        {
          "output_type": "stream",
          "text": [
            "                          PanelOLS Estimation Summary                           \n",
            "================================================================================\n",
            "Dep. Variable:           weekly_cases   R-squared:                        0.0057\n",
            "Estimator:                   PanelOLS   R-squared (Between):              0.1115\n",
            "No. Observations:                1981   R-squared (Within):               0.0516\n",
            "Date:                Fri, Dec 04 2020   R-squared (Overall):              0.0818\n",
            "Time:                        20:00:56   Log-likelihood                -2.048e+04\n",
            "Cov. Estimator:             Clustered                                           \n",
            "                                        F-statistic:                      10.864\n",
            "Entities:                          49   P-value                           0.0010\n",
            "Avg Obs:                       40.429   Distribution:                  F(1,1886)\n",
            "Min Obs:                       38.000                                           \n",
            "Max Obs:                       46.000   F-statistic (robust):             1.1605\n",
            "                                        P-value                           0.2815\n",
            "Time periods:                      48   Distribution:                  F(1,1886)\n",
            "Avg Obs:                       41.271                                           \n",
            "Min Obs:                       0.0000                                           \n",
            "Max Obs:                       49.000                                           \n",
            "                                                                                \n",
            "                             Parameter Estimates                              \n",
            "==============================================================================\n",
            "            Parameter  Std. Err.     T-stat    P-value    Lower CI    Upper CI\n",
            "------------------------------------------------------------------------------\n",
            "mandate        2080.8     1931.5     1.0773     0.2815     -1707.4      5869.0\n",
            "==============================================================================\n",
            "\n",
            "F-test for Poolability: 26.951\n",
            "P-value: 0.0000\n",
            "Distribution: F(93,1886)\n",
            "\n",
            "Included effects: Entity, Time\n"
          ],
          "name": "stdout"
        }
      ]
    },
    {
      "cell_type": "markdown",
      "metadata": {
        "id": "6nQlWpJzUUaz"
      },
      "source": [
        "# Second Regression\n",
        "This regression is set up to have the cases be the dependent variable and the dummy variables for weeks before and after to be be the independent variables. "
      ]
    },
    {
      "cell_type": "code",
      "metadata": {
        "id": "Ie0kTgS5Hik3"
      },
      "source": [
        "#Choose the dependent variable(y) and the independent variables(x) for the model\n",
        "y = cases.weekly_cases\n",
        "x = dummy\n",
        "x = pd.DataFrame(x)"
      ],
      "execution_count": 17,
      "outputs": []
    },
    {
      "cell_type": "code",
      "metadata": {
        "id": "hrk0V01KH3Op",
        "outputId": "3b852781-f127-492e-938e-9c8a223a82a1",
        "colab": {
          "base_uri": "https://localhost:8080/"
        }
      },
      "source": [
        "#Create the model and fit the data to it\n",
        "\n",
        "# Inclued state and time fixed effects to control for variation. Entity effects are the state fixed effects. \n",
        "mod = PanelOLS(y, x, entity_effects=True, time_effects=True, drop_absorbed=False)  \n",
        "\n",
        "# Cluster the standard errors so that the standard errors will be more accurate. \n",
        "res = mod.fit(cov_type='clustered', cluster_entity=True)\n",
        "print(res)"
      ],
      "execution_count": 18,
      "outputs": [
        {
          "output_type": "stream",
          "text": [
            "/usr/local/lib/python3.6/dist-packages/linearmodels/panel/data.py:98: FutureWarning: is_categorical is deprecated and will be removed in a future version.  Use is_categorical_dtype instead\n",
            "  if is_categorical(s):\n"
          ],
          "name": "stderr"
        },
        {
          "output_type": "stream",
          "text": [
            "                          PanelOLS Estimation Summary                           \n",
            "================================================================================\n",
            "Dep. Variable:           weekly_cases   R-squared:                        0.0281\n",
            "Estimator:                   PanelOLS   R-squared (Between):             -0.2398\n",
            "No. Observations:                1981   R-squared (Within):               0.0531\n",
            "Date:                Fri, Dec 04 2020   R-squared (Overall):             -0.0950\n",
            "Time:                        20:00:56   Log-likelihood                -2.046e+04\n",
            "Cov. Estimator:             Clustered                                           \n",
            "                                        F-statistic:                      0.7508\n",
            "Entities:                          49   P-value                           0.9380\n",
            "Avg Obs:                       40.429   Distribution:                 F(70,1817)\n",
            "Min Obs:                       38.000                                           \n",
            "Max Obs:                       46.000   F-statistic (robust):         -3.603e+10\n",
            "                                        P-value                           1.0000\n",
            "Time periods:                      48   Distribution:                 F(70,1817)\n",
            "Avg Obs:                       41.271                                           \n",
            "Min Obs:                       0.0000                                           \n",
            "Max Obs:                       49.000                                           \n",
            "                                                                                \n",
            "                             Parameter Estimates                              \n",
            "==============================================================================\n",
            "            Parameter  Std. Err.     T-stat    P-value    Lower CI    Upper CI\n",
            "------------------------------------------------------------------------------\n",
            "-10.0         -3337.1     2544.3    -1.3116     0.1898     -8327.2      1652.9\n",
            "-11.0         -3816.7     2714.5    -1.4060     0.1599     -9140.6      1507.3\n",
            "-12.0         -3851.6     2923.9    -1.3173     0.1879     -9586.2      1883.0\n",
            "-13.0         -4155.9     3096.3    -1.3422     0.1797  -1.023e+04      1916.8\n",
            "-14.0         -4586.3     3320.9    -1.3810     0.1674   -1.11e+04      1926.9\n",
            "-15.0         -4555.1     3352.1    -1.3589     0.1744  -1.113e+04      2019.3\n",
            "-16.0         -5531.4     3365.3    -1.6436     0.1004  -1.213e+04      1069.0\n",
            "-17.0         -5066.2     3219.6    -1.5736     0.1158  -1.138e+04      1248.2\n",
            "-18.0         -4747.4     3233.0    -1.4684     0.1422  -1.109e+04      1593.3\n",
            "-19.0         -3552.1     3174.2    -1.1191     0.2633     -9777.5      2673.3\n",
            "-2.0          -432.88     428.82    -1.0095     0.3129     -1273.9      408.15\n",
            "-20.0         -5133.6     3572.7    -1.4369     0.1509  -1.214e+04      1873.3\n",
            "-21.0         -5159.6     3980.1    -1.2963     0.1950  -1.297e+04      2646.6\n",
            "-22.0         -3081.0     3468.6    -0.8882     0.3745     -9883.9      3721.9\n",
            "-23.0          190.76     4241.3     0.0450     0.9641     -8127.5      8509.0\n",
            "-24.0         -2098.5     3164.6    -0.6631     0.5073     -8305.3      4108.2\n",
            "-25.0         -1973.4     3410.8    -0.5786     0.5630     -8663.0      4716.2\n",
            "-26.0         -3002.8     3388.7    -0.8861     0.3757     -9649.0      3643.4\n",
            "-27.0         -2759.1     3308.8    -0.8339     0.4045     -9248.5      3730.3\n",
            "-28.0         -2717.5     3428.2    -0.7927     0.4281     -9441.2      4006.1\n",
            "-29.0         -5076.5     3455.7    -1.4690     0.1420  -1.185e+04      1701.2\n",
            "-3.0          -843.70     796.37    -1.0594     0.2895     -2405.6      718.19\n",
            "-30.0         -6165.9     3528.3    -1.7476     0.0807  -1.309e+04      754.05\n",
            "-31.0         -6472.1     3616.1    -1.7898     0.0737  -1.356e+04      620.04\n",
            "-32.0         -6145.5     4039.4    -1.5214     0.1283  -1.407e+04      1776.8\n",
            "-33.0         -5651.6     4088.9    -1.3822     0.1671  -1.367e+04      2367.7\n",
            "-34.0         -4272.6     3974.1    -1.0751     0.2825  -1.207e+04      3521.7\n",
            "-35.0         -3132.1     3729.1    -0.8399     0.4011  -1.045e+04      4181.6\n",
            "-36.0         -2781.7     3717.7    -0.7482     0.4544  -1.007e+04      4509.8\n",
            "-37.0         -925.56     3853.3    -0.2402     0.8102     -8483.0      6631.8\n",
            "-38.0          3674.4     4518.6     0.8132     0.4162     -5187.9   1.254e+04\n",
            "-4.0          -1837.3     1218.4    -1.5080     0.1317     -4226.8      552.27\n",
            "-5.0          -2741.1     1986.1    -1.3802     0.1677     -6636.4      1154.1\n",
            "-6.0          -3141.7     2351.2    -1.3362     0.1816     -7753.1      1469.6\n",
            "-7.0          -3001.1     2423.7    -1.2382     0.2158     -7754.6      1752.4\n",
            "-8.0          -2854.7     2350.6    -1.2145     0.2247     -7464.8      1755.3\n",
            "-9.0          -3451.4     2457.5    -1.4044     0.1604     -8271.3      1368.4\n",
            "0.0            382.25     692.04     0.5524     0.5808     -975.02      1739.5\n",
            "1.0            818.47     1398.3     0.5853     0.5584     -1924.0      3560.9\n",
            "10.0          -2374.2     2374.6    -0.9998     0.3175     -7031.5      2283.0\n",
            "11.0          -1830.6     2460.7    -0.7439     0.4570     -6656.7      2995.6\n",
            "12.0          -1976.7     2533.7    -0.7801     0.4354     -6945.9      2992.6\n",
            "13.0          -1881.0     2658.1    -0.7077     0.4792     -7094.2      3332.2\n",
            "14.0          -1438.4     2857.3    -0.5034     0.6147     -7042.3      4165.4\n",
            "15.0          -1089.0     3033.0    -0.3591     0.7196     -7037.7      4859.6\n",
            "16.0          -2016.8     3023.3    -0.6671     0.5048     -7946.4      3912.8\n",
            "17.0          -1652.1     3081.3    -0.5362     0.5919     -7695.4      4391.2\n",
            "18.0          -2217.8     3025.0    -0.7332     0.4635     -8150.6      3715.0\n",
            "19.0          -2379.4     3194.8    -0.7448     0.4565     -8645.2      3886.4\n",
            "2.0            502.89     1607.8     0.3128     0.7545     -2650.5      3656.3\n",
            "20.0          -1289.3     3420.0    -0.3770     0.7062     -7996.8      5418.2\n",
            "21.0           1436.9     4574.1     0.3141     0.7535     -7534.1   1.041e+04\n",
            "22.0          -135.68     5678.3    -0.0239     0.9809  -1.127e+04     1.1e+04\n",
            "23.0           1293.9     6544.7     0.1977     0.8433  -1.154e+04   1.413e+04\n",
            "24.0          -3411.0     3766.7    -0.9055     0.3653   -1.08e+04      3976.6\n",
            "25.0          -3381.8     4303.2    -0.7859     0.4320  -1.182e+04      5058.0\n",
            "26.0          -2919.4     5839.8    -0.4999     0.6172  -1.437e+04      8534.1\n",
            "27.0          -2109.8     8186.3    -0.2577     0.7966  -1.817e+04   1.395e+04\n",
            "28.0          -3599.7     7780.6    -0.4627     0.6437  -1.886e+04   1.166e+04\n",
            "29.0          -3078.9     6477.5    -0.4753     0.6346  -1.578e+04      9625.3\n",
            "3.0            851.11     2017.5     0.4219     0.6732     -3105.8      4808.0\n",
            "30.0          -3689.4     5709.0    -0.6462     0.5182  -1.489e+04      7507.6\n",
            "31.0          -2364.3     4836.2    -0.4889     0.6250  -1.185e+04      7120.9\n",
            "32.0           1069.4     4219.4     0.2534     0.8000     -7206.0      9344.7\n",
            "4.0            1214.7     2449.5     0.4959     0.6200     -3589.4      6018.8\n",
            "5.0            782.05     2347.5     0.3331     0.7391     -3822.0      5386.1\n",
            "6.0           -48.144     2283.1    -0.0211     0.9832     -4525.8      4429.5\n",
            "7.0           -231.56     2581.5    -0.0897     0.9285     -5294.6      4831.5\n",
            "8.0           -1476.4     2302.6    -0.6412     0.5215     -5992.5      3039.7\n",
            "9.0           -2262.8     2327.8    -0.9721     0.3311     -6828.3      2302.7\n",
            "==============================================================================\n",
            "\n",
            "F-test for Poolability: 24.213\n",
            "P-value: 0.0000\n",
            "Distribution: F(93,1817)\n",
            "\n",
            "Included effects: Entity, Time\n"
          ],
          "name": "stdout"
        }
      ]
    },
    {
      "cell_type": "code",
      "metadata": {
        "id": "qGwyYontgpME",
        "colab": {
          "base_uri": "https://localhost:8080/",
          "height": 623
        },
        "outputId": "0fbe0824-0f25-4bbc-afb9-c419e21c03fd"
      },
      "source": [
        "#Create a graph that shows the variation of cases \n",
        "import seaborn as sns\n",
        "import matplotlib.pyplot as plt\n",
        "\n",
        "plt.figure(figsize=(10,10))\n",
        "sns.lineplot(x=cases.loc[cases.mandate_week!=0,'week_diff'], y=y, data=cases, )"
      ],
      "execution_count": 19,
      "outputs": [
        {
          "output_type": "execute_result",
          "data": {
            "text/plain": [
              "<matplotlib.axes._subplots.AxesSubplot at 0x7f80485e7cf8>"
            ]
          },
          "metadata": {
            "tags": []
          },
          "execution_count": 19
        },
        {
          "output_type": "display_data",
          "data": {
            "image/png": "[encoded data removed]",
            "text/plain": [
              "<Figure size 720x720 with 1 Axes>"
            ]
          },
          "metadata": {
            "tags": [],
            "needs_background": "light"
          }
        }
      ]
    }
  ]
}